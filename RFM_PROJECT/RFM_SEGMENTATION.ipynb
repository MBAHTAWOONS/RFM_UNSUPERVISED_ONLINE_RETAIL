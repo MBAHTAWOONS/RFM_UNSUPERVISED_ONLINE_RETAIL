{
 "cells": [
  {
   "cell_type": "markdown",
   "id": "53bc538e",
   "metadata": {},
   "source": [
    "#### PACKAGES"
   ]
  },
  {
   "cell_type": "code",
   "execution_count": 1,
   "id": "f9cb0997",
   "metadata": {},
   "outputs": [],
   "source": [
    "import pandas as pd\n",
    "import numpy as np\n",
    "import matplotlib.pyplot as plt\n",
    "import seaborn as sns\n",
    "from sklearn.cluster import KMeans\n",
    "from sklearn.preprocessing import StandardScaler\n",
    "from sklearn.metrics import silhouette_score\n",
    "from sklearn.preprocessing import minmax_scale\n",
    "from sklearn.decomposition import PCA\n",
    "import datetime\n",
    "import string as str\n",
    "from math import pi"
   ]
  },
  {
   "cell_type": "markdown",
   "id": "4cceca89",
   "metadata": {},
   "source": [
    "#### FUNCTION"
   ]
  },
  {
   "cell_type": "code",
   "execution_count": 41,
   "id": "939bebcb",
   "metadata": {},
   "outputs": [],
   "source": [
    "#split feature columns\n",
    "def group_feature(df=pd.DataFrame):\n",
    "    numeric = list(df.select_dtypes(include=[int,float]))\n",
    "    category = list(df.select_dtypes(exclude=[int,float]))\n",
    "    return numeric,category\n",
    "\n",
    "#function check outlier\n",
    "def check_outliers(column = str, df = pd.DataFrame):\n",
    "    values = {}\n",
    "    for j,i in enumerate(column):\n",
    "        print(j,i)\n",
    "        Q3 = df[i].quantile(q=0.75)\n",
    "        Q1 = df[i].quantile(q=0.25)\n",
    "        IQR = Q3 - Q1\n",
    "        min_IQR = Q1 - 1.5 * IQR\n",
    "        max_IQR = Q3 + 1.5 * IQR\n",
    "        results_top = []\n",
    "        results_down = []\n",
    "        for index,val in enumerate(df[i]):\n",
    "            if (val < min_IQR):\n",
    "                results_down.append(val)\n",
    "            elif (val > max_IQR):\n",
    "                results_top.append(val)\n",
    "        print(f\"column :{i}\\nnum_outliers:{len(results_top) + len(results_down)}\\n\")\n",
    "        values [j] = [results_top,results_down]\n",
    "    return values\n",
    "\n",
    "#modelling elbow method\n",
    "def elbowmodel_plot(X,n_clusters= list):\n",
    "    inertia = []\n",
    "\n",
    "    for i in n_clusters:\n",
    "        kmeans = KMeans(n_clusters=i, random_state=1)\n",
    "        kmeans.fit(X)\n",
    "        inertia.append(kmeans.inertia_)\n",
    "\n",
    "    plt.figure(figsize=(10, 5))\n",
    "\n",
    "    sns.lineplot(x=n_clusters, y=inertia, color='#000087', linewidth = 4)\n",
    "    sns.scatterplot(x=n_clusters, y=inertia, s=300, color='#800000',  linestyle='--')\n",
    "    plt.title('Elbow plot')\n",
    "    plt.show()\n",
    "    \n",
    "#modeling silhoutte\n",
    "\n",
    "def silhouttemodel_plot(X,n_clusters= list):\n",
    "    arr_silhouette_score_euclidean = []\n",
    "    \n",
    "    for i in n_clusters:\n",
    "        kmeans = KMeans(n_clusters=i,).fit(X)\n",
    "        preds = kmeans.predict(X)\n",
    "\n",
    "        score_euclidean = silhouette_score(X, preds, metric='euclidean')\n",
    "        arr_silhouette_score_euclidean.append(score_euclidean)\n",
    "           \n",
    "    sns.lineplot(x=n_clusters, y=arr_silhouette_score_euclidean, color='#000087', linewidth = 4)\n",
    "    sns.scatterplot(x=n_clusters, y=arr_silhouette_score_euclidean, s=300, color='#800000',  linestyle='--')\n",
    "    plt.title('Silhoutte Plot')\n",
    "    plt.show()\n",
    "    \n",
    "def radar_chart(ax, features, values, label, color):\n",
    "    angles = np.linspace(0, 2 * np.pi, len(features), endpoint=False)\n",
    "\n",
    "    #values = np.concatenate((values, [values[0]]))  # Menutup lingkaran\n",
    "\n",
    "    ax.plot(angles, values, label=label, color=color)\n",
    "    ax.fill(angles, values, alpha=0.25, color=color)\n",
    "\n",
    "    ax.set_thetagrids(np.degrees(angles), features)\n",
    "    ax.set_theta_offset(np.pi / 2)\n",
    "    ax.set_theta_direction(-1)\n",
    "\n",
    "    ax.legend(loc='upper right', bbox_to_anchor=(0.1, 0.1))\n",
    "    plt.title('Radar Chart')"
   ]
  },
  {
   "cell_type": "markdown",
   "id": "0b73a2e2",
   "metadata": {},
   "source": [
    "#### LOAD DATA"
   ]
  },
  {
   "cell_type": "code",
   "execution_count": 3,
   "id": "aa6c19fa",
   "metadata": {},
   "outputs": [
    {
     "data": {
      "text/html": [
       "<div>\n",
       "<style scoped>\n",
       "    .dataframe tbody tr th:only-of-type {\n",
       "        vertical-align: middle;\n",
       "    }\n",
       "\n",
       "    .dataframe tbody tr th {\n",
       "        vertical-align: top;\n",
       "    }\n",
       "\n",
       "    .dataframe thead th {\n",
       "        text-align: right;\n",
       "    }\n",
       "</style>\n",
       "<table border=\"1\" class=\"dataframe\">\n",
       "  <thead>\n",
       "    <tr style=\"text-align: right;\">\n",
       "      <th></th>\n",
       "      <th>Invoice</th>\n",
       "      <th>StockCode</th>\n",
       "      <th>Description</th>\n",
       "      <th>Quantity</th>\n",
       "      <th>InvoiceDate</th>\n",
       "      <th>Price</th>\n",
       "      <th>Customer ID</th>\n",
       "      <th>Country</th>\n",
       "    </tr>\n",
       "  </thead>\n",
       "  <tbody>\n",
       "    <tr>\n",
       "      <th>0</th>\n",
       "      <td>489434</td>\n",
       "      <td>85048</td>\n",
       "      <td>15CM CHRISTMAS GLASS BALL 20 LIGHTS</td>\n",
       "      <td>12</td>\n",
       "      <td>1.12.2009 07:45</td>\n",
       "      <td>6.95</td>\n",
       "      <td>13085.0</td>\n",
       "      <td>United Kingdom</td>\n",
       "    </tr>\n",
       "    <tr>\n",
       "      <th>1</th>\n",
       "      <td>489434</td>\n",
       "      <td>79323P</td>\n",
       "      <td>PINK CHERRY LIGHTS</td>\n",
       "      <td>12</td>\n",
       "      <td>1.12.2009 07:45</td>\n",
       "      <td>6.75</td>\n",
       "      <td>13085.0</td>\n",
       "      <td>United Kingdom</td>\n",
       "    </tr>\n",
       "    <tr>\n",
       "      <th>2</th>\n",
       "      <td>489434</td>\n",
       "      <td>79323W</td>\n",
       "      <td>WHITE CHERRY LIGHTS</td>\n",
       "      <td>12</td>\n",
       "      <td>1.12.2009 07:45</td>\n",
       "      <td>6.75</td>\n",
       "      <td>13085.0</td>\n",
       "      <td>United Kingdom</td>\n",
       "    </tr>\n",
       "  </tbody>\n",
       "</table>\n",
       "</div>"
      ],
      "text/plain": [
       "  Invoice StockCode                          Description  Quantity  \\\n",
       "0  489434     85048  15CM CHRISTMAS GLASS BALL 20 LIGHTS        12   \n",
       "1  489434    79323P                   PINK CHERRY LIGHTS        12   \n",
       "2  489434    79323W                  WHITE CHERRY LIGHTS        12   \n",
       "\n",
       "       InvoiceDate  Price  Customer ID         Country  \n",
       "0  1.12.2009 07:45   6.95      13085.0  United Kingdom  \n",
       "1  1.12.2009 07:45   6.75      13085.0  United Kingdom  \n",
       "2  1.12.2009 07:45   6.75      13085.0  United Kingdom  "
      ]
     },
     "execution_count": 3,
     "metadata": {},
     "output_type": "execute_result"
    }
   ],
   "source": [
    "df = pd.read_csv('C:/Users/hp/Downloads/Materi EC 8 DS 20+-20231001T020241Z-001/UNSUP_PROJECT/online_Retail_listing.csv')\n",
    "df.head(3)"
   ]
  },
  {
   "cell_type": "code",
   "execution_count": 3,
   "id": "f22d1ad8",
   "metadata": {},
   "outputs": [
    {
     "name": "stdout",
     "output_type": "stream",
     "text": [
      "<class 'pandas.core.frame.DataFrame'>\n",
      "RangeIndex: 1048575 entries, 0 to 1048574\n",
      "Data columns (total 8 columns):\n",
      " #   Column       Non-Null Count    Dtype  \n",
      "---  ------       --------------    -----  \n",
      " 0   Invoice      1048575 non-null  object \n",
      " 1   StockCode    1048575 non-null  object \n",
      " 2   Description  1044203 non-null  object \n",
      " 3   Quantity     1048575 non-null  int64  \n",
      " 4   InvoiceDate  1048575 non-null  object \n",
      " 5   Price        1048575 non-null  float64\n",
      " 6   Customer ID  811893 non-null   float64\n",
      " 7   Country      1048575 non-null  object \n",
      "dtypes: float64(2), int64(1), object(5)\n",
      "memory usage: 64.0+ MB\n"
     ]
    }
   ],
   "source": [
    "df.info()"
   ]
  },
  {
   "cell_type": "markdown",
   "id": "a28ea105",
   "metadata": {},
   "source": [
    "## DICTIONARY\n",
    "\n",
    "#### Context\n",
    "This Online Retail II data set contains all the transactions occurring for a UK-based and registered, non-store online retail between 01/12/2009 and 09/12/2011.The company mainly sells unique all-occasion gift-ware. Many customers of the company are wholesalers.\n",
    "\n",
    "\n",
    "#### Details\n",
    "An e-commerce company wants to segment its customers and determine marketing strategies according to these segments. To this end, we will define the behavior of customers and create groups according to clusters in these behaviors. In other words, we will include those who exhibit common behaviors in the same groups and we will try to develop special sales and marketing techniques for these groups.\n",
    "\n",
    "- InvoiceNo: Invoice number. Nominal. A 6-digit integral number uniquely assigned to each transaction. If this code starts with the letter 'c', it indicates a cancellation.\n",
    "- StockCode: Product (item) code. Nominal. A 5-digit integral number uniquely assigned to each distinct product.\n",
    "- Description: Product (item) name. Nominal.\n",
    "- Quantity: The quantities of each product (item) per transaction. Numeric.\n",
    "- InvoiceDate: Invice date and time. Numeric. The day and time when a transaction was generated.\n",
    "- UnitPrice: Unit price. Numeric. Product price per unit in sterling (Â£).\n",
    "- CustomerID: Customer number. Nominal. A 5-digit integral number uniquely assigned to each customer.\n",
    "- Country: Country name. Nominal. The name of the country where a customer resides."
   ]
  },
  {
   "cell_type": "code",
   "execution_count": null,
   "id": "8560538a",
   "metadata": {},
   "outputs": [],
   "source": [
    "# dtype to change Customer ID, Invoice date, Description"
   ]
  },
  {
   "cell_type": "markdown",
   "id": "6f373dfc",
   "metadata": {},
   "source": [
    "## PREPROCESSING & CLEANING\n"
   ]
  },
  {
   "cell_type": "markdown",
   "id": "b755f313",
   "metadata": {},
   "source": [
    "#### DUPLICATES RECORD"
   ]
  },
  {
   "cell_type": "code",
   "execution_count": 4,
   "id": "63faafd8",
   "metadata": {},
   "outputs": [
    {
     "data": {
      "text/plain": [
       "34150"
      ]
     },
     "execution_count": 4,
     "metadata": {},
     "output_type": "execute_result"
    }
   ],
   "source": [
    "df.duplicated(subset= list(df.columns)).sum()"
   ]
  },
  {
   "cell_type": "code",
   "execution_count": 76,
   "id": "33943c0a",
   "metadata": {},
   "outputs": [
    {
     "name": "stdout",
     "output_type": "stream",
     "text": [
      "0.04 rows duplicated\n"
     ]
    }
   ],
   "source": [
    "print(f'{round(34150/len(df),2)} rows duplicated')"
   ]
  },
  {
   "cell_type": "code",
   "execution_count": 5,
   "id": "6cd7edb6",
   "metadata": {},
   "outputs": [
    {
     "data": {
      "text/html": [
       "<div>\n",
       "<style scoped>\n",
       "    .dataframe tbody tr th:only-of-type {\n",
       "        vertical-align: middle;\n",
       "    }\n",
       "\n",
       "    .dataframe tbody tr th {\n",
       "        vertical-align: top;\n",
       "    }\n",
       "\n",
       "    .dataframe thead th {\n",
       "        text-align: right;\n",
       "    }\n",
       "</style>\n",
       "<table border=\"1\" class=\"dataframe\">\n",
       "  <thead>\n",
       "    <tr style=\"text-align: right;\">\n",
       "      <th></th>\n",
       "      <th>Invoice</th>\n",
       "      <th>StockCode</th>\n",
       "      <th>Description</th>\n",
       "      <th>Quantity</th>\n",
       "      <th>InvoiceDate</th>\n",
       "      <th>Price</th>\n",
       "      <th>Customer ID</th>\n",
       "      <th>Country</th>\n",
       "    </tr>\n",
       "  </thead>\n",
       "  <tbody>\n",
       "    <tr>\n",
       "      <th>379</th>\n",
       "      <td>489517</td>\n",
       "      <td>21491</td>\n",
       "      <td>SET OF THREE VINTAGE GIFT WRAPS</td>\n",
       "      <td>1</td>\n",
       "      <td>1.12.2009 11:34</td>\n",
       "      <td>1.95</td>\n",
       "      <td>16329.0</td>\n",
       "      <td>United Kingdom</td>\n",
       "    </tr>\n",
       "    <tr>\n",
       "      <th>391</th>\n",
       "      <td>489517</td>\n",
       "      <td>21491</td>\n",
       "      <td>SET OF THREE VINTAGE GIFT WRAPS</td>\n",
       "      <td>1</td>\n",
       "      <td>1.12.2009 11:34</td>\n",
       "      <td>1.95</td>\n",
       "      <td>16329.0</td>\n",
       "      <td>United Kingdom</td>\n",
       "    </tr>\n",
       "    <tr>\n",
       "      <th>365</th>\n",
       "      <td>489517</td>\n",
       "      <td>21821</td>\n",
       "      <td>GLITTER STAR GARLAND WITH BELLS</td>\n",
       "      <td>1</td>\n",
       "      <td>1.12.2009 11:34</td>\n",
       "      <td>3.75</td>\n",
       "      <td>16329.0</td>\n",
       "      <td>United Kingdom</td>\n",
       "    </tr>\n",
       "    <tr>\n",
       "      <th>386</th>\n",
       "      <td>489517</td>\n",
       "      <td>21821</td>\n",
       "      <td>GLITTER STAR GARLAND WITH BELLS</td>\n",
       "      <td>1</td>\n",
       "      <td>1.12.2009 11:34</td>\n",
       "      <td>3.75</td>\n",
       "      <td>16329.0</td>\n",
       "      <td>United Kingdom</td>\n",
       "    </tr>\n",
       "  </tbody>\n",
       "</table>\n",
       "</div>"
      ],
      "text/plain": [
       "    Invoice StockCode                       Description  Quantity  \\\n",
       "379  489517     21491   SET OF THREE VINTAGE GIFT WRAPS         1   \n",
       "391  489517     21491   SET OF THREE VINTAGE GIFT WRAPS         1   \n",
       "365  489517     21821  GLITTER STAR GARLAND WITH BELLS          1   \n",
       "386  489517     21821  GLITTER STAR GARLAND WITH BELLS          1   \n",
       "\n",
       "         InvoiceDate  Price  Customer ID         Country  \n",
       "379  1.12.2009 11:34   1.95      16329.0  United Kingdom  \n",
       "391  1.12.2009 11:34   1.95      16329.0  United Kingdom  \n",
       "365  1.12.2009 11:34   3.75      16329.0  United Kingdom  \n",
       "386  1.12.2009 11:34   3.75      16329.0  United Kingdom  "
      ]
     },
     "execution_count": 5,
     "metadata": {},
     "output_type": "execute_result"
    }
   ],
   "source": [
    "df[df.duplicated(subset= list(df.columns),keep= False)].sort_values(by= list(df.columns)).head(4)\n",
    "\n",
    "#there is duplicate records as much as 34150 row "
   ]
  },
  {
   "cell_type": "code",
   "execution_count": 4,
   "id": "310e5e89",
   "metadata": {},
   "outputs": [
    {
     "data": {
      "text/plain": [
       "(1014425, 8)"
      ]
     },
     "execution_count": 4,
     "metadata": {},
     "output_type": "execute_result"
    }
   ],
   "source": [
    "# drop the duplicates\n",
    "\n",
    "df = df.drop_duplicates(subset= list(df.columns))\n",
    "df.shape"
   ]
  },
  {
   "cell_type": "markdown",
   "id": "c139acd5",
   "metadata": {},
   "source": [
    "#### NULL ROWS"
   ]
  },
  {
   "cell_type": "code",
   "execution_count": 4,
   "id": "0ff02d66",
   "metadata": {},
   "outputs": [
    {
     "data": {
      "text/plain": [
       "Invoice             0\n",
       "StockCode           0\n",
       "Description      4265\n",
       "Quantity            0\n",
       "InvoiceDate         0\n",
       "Price               0\n",
       "Customer ID    228826\n",
       "Country             0\n",
       "dtype: int64"
      ]
     },
     "execution_count": 4,
     "metadata": {},
     "output_type": "execute_result"
    }
   ],
   "source": [
    "# check null row\n",
    "df.isnull().sum()"
   ]
  },
  {
   "cell_type": "code",
   "execution_count": 11,
   "id": "cc81abdf",
   "metadata": {},
   "outputs": [
    {
     "data": {
      "text/plain": [
       "0.22557212213815708"
      ]
     },
     "execution_count": 11,
     "metadata": {},
     "output_type": "execute_result"
    }
   ],
   "source": [
    "# there is null in customer ID column it's a pity cause it is a unique that can't be subtitute\n",
    "# and the percentage is quite a lot, the decision is to drop it\n",
    "\n",
    "228826/len(df) "
   ]
  },
  {
   "cell_type": "code",
   "execution_count": 77,
   "id": "5f1ad729",
   "metadata": {},
   "outputs": [
    {
     "data": {
      "text/plain": [
       "0.00542897839737576"
      ]
     },
     "execution_count": 77,
     "metadata": {},
     "output_type": "execute_result"
    }
   ],
   "source": [
    "4265/len(df)"
   ]
  },
  {
   "cell_type": "code",
   "execution_count": 5,
   "id": "ded69fb9",
   "metadata": {},
   "outputs": [],
   "source": [
    "# drop null\n",
    "\n",
    "df = df[df['Customer ID'].notnull()]"
   ]
  },
  {
   "cell_type": "code",
   "execution_count": 7,
   "id": "acd41857",
   "metadata": {},
   "outputs": [
    {
     "data": {
      "text/plain": [
       "Invoice        0\n",
       "StockCode      0\n",
       "Description    0\n",
       "Quantity       0\n",
       "InvoiceDate    0\n",
       "Price          0\n",
       "Customer ID    0\n",
       "Country        0\n",
       "dtype: int64"
      ]
     },
     "execution_count": 7,
     "metadata": {},
     "output_type": "execute_result"
    }
   ],
   "source": [
    "df.isnull().sum()\n",
    "\n",
    "# and its already handle description missing value, nice!"
   ]
  },
  {
   "cell_type": "code",
   "execution_count": 6,
   "id": "77561dcc",
   "metadata": {},
   "outputs": [],
   "source": [
    "# change dtypes \n",
    "\n",
    "df['InvoiceDate'] = pd.to_datetime(df['InvoiceDate'])\n",
    "df['Invoice'] = df['Invoice'].astype('str')\n",
    "df['Customer ID'] = df['Customer ID'].astype('str')"
   ]
  },
  {
   "cell_type": "markdown",
   "id": "de6b338a",
   "metadata": {},
   "source": [
    "### Nunique"
   ]
  },
  {
   "cell_type": "code",
   "execution_count": 6,
   "id": "16f74b05",
   "metadata": {
    "scrolled": false
   },
   "outputs": [
    {
     "data": {
      "text/plain": [
       "Invoice        44278\n",
       "StockCode       4645\n",
       "Description     5297\n",
       "Quantity         636\n",
       "InvoiceDate    40904\n",
       "Price           1014\n",
       "Customer ID     5924\n",
       "Country           41\n",
       "dtype: int64"
      ]
     },
     "execution_count": 6,
     "metadata": {},
     "output_type": "execute_result"
    }
   ],
   "source": [
    "# check unique\n",
    "\n",
    "df.nunique()"
   ]
  },
  {
   "cell_type": "code",
   "execution_count": 12,
   "id": "ce8987d0",
   "metadata": {},
   "outputs": [
    {
     "data": {
      "text/html": [
       "<div>\n",
       "<style scoped>\n",
       "    .dataframe tbody tr th:only-of-type {\n",
       "        vertical-align: middle;\n",
       "    }\n",
       "\n",
       "    .dataframe tbody tr th {\n",
       "        vertical-align: top;\n",
       "    }\n",
       "\n",
       "    .dataframe thead th {\n",
       "        text-align: right;\n",
       "    }\n",
       "</style>\n",
       "<table border=\"1\" class=\"dataframe\">\n",
       "  <thead>\n",
       "    <tr style=\"text-align: right;\">\n",
       "      <th></th>\n",
       "      <th>StockCode</th>\n",
       "      <th>sum</th>\n",
       "    </tr>\n",
       "  </thead>\n",
       "  <tbody>\n",
       "    <tr>\n",
       "      <th>25</th>\n",
       "      <td>15058A</td>\n",
       "      <td>2</td>\n",
       "    </tr>\n",
       "    <tr>\n",
       "      <th>26</th>\n",
       "      <td>15058B</td>\n",
       "      <td>2</td>\n",
       "    </tr>\n",
       "    <tr>\n",
       "      <th>32</th>\n",
       "      <td>16011</td>\n",
       "      <td>2</td>\n",
       "    </tr>\n",
       "  </tbody>\n",
       "</table>\n",
       "</div>"
      ],
      "text/plain": [
       "   StockCode  sum\n",
       "25    15058A    2\n",
       "26    15058B    2\n",
       "32     16011    2"
      ]
     },
     "execution_count": 12,
     "metadata": {},
     "output_type": "execute_result"
    }
   ],
   "source": [
    "ss = df.groupby(['StockCode'])['Description'].nunique().reset_index(name= 'sum')\n",
    "r = ss[ss['sum'] >1]\n",
    "r.head(3)\n",
    "\n",
    "# for understand the stock code manually while the rows quite a bit\n",
    "# r.to_csv('Checkdata.csv')\n",
    "\n",
    "# there is 2 unique in description , check it further"
   ]
  },
  {
   "cell_type": "code",
   "execution_count": 13,
   "id": "3d042fb6",
   "metadata": {},
   "outputs": [
    {
     "data": {
      "text/plain": [
       "array([' ANIMAL STICKERS', 'ANIMAL STICKERS'], dtype=object)"
      ]
     },
     "execution_count": 13,
     "metadata": {},
     "output_type": "execute_result"
    }
   ],
   "source": [
    "df[df['StockCode'] == '16011' ]['Description'].unique()\n",
    "# there is a value that should be same,  1 unique stock code for 1 unique description , it become different cause there's some \n",
    "#linking character or subtitude words, other else that's no needed "
   ]
  },
  {
   "cell_type": "code",
   "execution_count": 14,
   "id": "32e830e9",
   "metadata": {},
   "outputs": [
    {
     "data": {
      "text/plain": [
       "array(['PINK WHITE SPOTS GARDEN PARASOL', 'PINK POLKADOT GARDEN PARASOL'],\n",
       "      dtype=object)"
      ]
     },
     "execution_count": 14,
     "metadata": {},
     "output_type": "execute_result"
    }
   ],
   "source": [
    "df[df['StockCode'] == '15058B']['Description'].unique()"
   ]
  },
  {
   "cell_type": "code",
   "execution_count": 8,
   "id": "eb3ad7e9",
   "metadata": {},
   "outputs": [
    {
     "name": "stdout",
     "output_type": "stream",
     "text": [
      "4645 4645\n"
     ]
    }
   ],
   "source": [
    "#take description on stockcode uniques\n",
    "unique = {}\n",
    "\n",
    "for i,j in zip(df['StockCode'],df['Description']):\n",
    "    if (i not in unique.keys()):\n",
    "        unique[i] = j\n",
    "print(len(unique.keys()),len(unique.values()))"
   ]
  },
  {
   "cell_type": "code",
   "execution_count": 9,
   "id": "764b0475",
   "metadata": {},
   "outputs": [],
   "source": [
    "# fill the value\n",
    "df2= df.copy()\n",
    "df2['Description'] = df2['StockCode'].map(unique)"
   ]
  },
  {
   "cell_type": "code",
   "execution_count": 11,
   "id": "af879a1f",
   "metadata": {},
   "outputs": [
    {
     "data": {
      "text/html": [
       "<div>\n",
       "<style scoped>\n",
       "    .dataframe tbody tr th:only-of-type {\n",
       "        vertical-align: middle;\n",
       "    }\n",
       "\n",
       "    .dataframe tbody tr th {\n",
       "        vertical-align: top;\n",
       "    }\n",
       "\n",
       "    .dataframe thead th {\n",
       "        text-align: right;\n",
       "    }\n",
       "</style>\n",
       "<table border=\"1\" class=\"dataframe\">\n",
       "  <thead>\n",
       "    <tr style=\"text-align: right;\">\n",
       "      <th></th>\n",
       "      <th>Description</th>\n",
       "      <th>StockCode</th>\n",
       "    </tr>\n",
       "  </thead>\n",
       "  <tbody>\n",
       "    <tr>\n",
       "      <th>156</th>\n",
       "      <td>ACRYLIC JEWEL SNOWFLAKE,BLUE</td>\n",
       "      <td>2</td>\n",
       "    </tr>\n",
       "    <tr>\n",
       "      <th>531</th>\n",
       "      <td>BLUE FLOCK GLASS CANDLEHOLDER</td>\n",
       "      <td>2</td>\n",
       "    </tr>\n",
       "    <tr>\n",
       "      <th>997</th>\n",
       "      <td>COLOURING PENCILS BROWN TUBE</td>\n",
       "      <td>3</td>\n",
       "    </tr>\n",
       "  </tbody>\n",
       "</table>\n",
       "</div>"
      ],
      "text/plain": [
       "                       Description  StockCode\n",
       "156   ACRYLIC JEWEL SNOWFLAKE,BLUE          2\n",
       "531  BLUE FLOCK GLASS CANDLEHOLDER          2\n",
       "997   COLOURING PENCILS BROWN TUBE          3"
      ]
     },
     "execution_count": 11,
     "metadata": {},
     "output_type": "execute_result"
    }
   ],
   "source": [
    "cc = df2.groupby('Description')['StockCode'].nunique().reset_index()\n",
    "cc[cc['StockCode'] > 1].head(3)"
   ]
  },
  {
   "cell_type": "code",
   "execution_count": 9,
   "id": "e7e09de2",
   "metadata": {},
   "outputs": [
    {
     "data": {
      "text/plain": [
       "Description    4622\n",
       "StockCode      4645\n",
       "dtype: int64"
      ]
     },
     "execution_count": 9,
     "metadata": {},
     "output_type": "execute_result"
    }
   ],
   "source": [
    "# stil different\n",
    "df2[['Description','StockCode']].nunique()"
   ]
  },
  {
   "cell_type": "code",
   "execution_count": 12,
   "id": "e758df5b",
   "metadata": {},
   "outputs": [
    {
     "data": {
      "text/html": [
       "<div>\n",
       "<style scoped>\n",
       "    .dataframe tbody tr th:only-of-type {\n",
       "        vertical-align: middle;\n",
       "    }\n",
       "\n",
       "    .dataframe tbody tr th {\n",
       "        vertical-align: top;\n",
       "    }\n",
       "\n",
       "    .dataframe thead th {\n",
       "        text-align: right;\n",
       "    }\n",
       "</style>\n",
       "<table border=\"1\" class=\"dataframe\">\n",
       "  <thead>\n",
       "    <tr style=\"text-align: right;\">\n",
       "      <th></th>\n",
       "      <th>Description</th>\n",
       "      <th>StockCode_x</th>\n",
       "      <th>StockCode_y</th>\n",
       "    </tr>\n",
       "  </thead>\n",
       "  <tbody>\n",
       "    <tr>\n",
       "      <th>156</th>\n",
       "      <td>ACRYLIC JEWEL SNOWFLAKE,BLUE</td>\n",
       "      <td>[35817B, 35815B]</td>\n",
       "      <td>2</td>\n",
       "    </tr>\n",
       "    <tr>\n",
       "      <th>531</th>\n",
       "      <td>BLUE FLOCK GLASS CANDLEHOLDER</td>\n",
       "      <td>[79328, 79337]</td>\n",
       "      <td>2</td>\n",
       "    </tr>\n",
       "    <tr>\n",
       "      <th>997</th>\n",
       "      <td>COLOURING PENCILS BROWN TUBE</td>\n",
       "      <td>[10133, 10135, 10134]</td>\n",
       "      <td>3</td>\n",
       "    </tr>\n",
       "  </tbody>\n",
       "</table>\n",
       "</div>"
      ],
      "text/plain": [
       "                       Description            StockCode_x  StockCode_y\n",
       "156   ACRYLIC JEWEL SNOWFLAKE,BLUE       [35817B, 35815B]            2\n",
       "531  BLUE FLOCK GLASS CANDLEHOLDER         [79328, 79337]            2\n",
       "997   COLOURING PENCILS BROWN TUBE  [10133, 10135, 10134]            3"
      ]
     },
     "execution_count": 12,
     "metadata": {},
     "output_type": "execute_result"
    }
   ],
   "source": [
    "ss = df2.groupby('Description')['StockCode'].unique().reset_index()\n",
    "ex = ss.merge(cc,on= 'Description')\n",
    "ex[ex['StockCode_y'] > 1].head(3)\n",
    "\n",
    "\n",
    "# i think there is same description for different StockCode , already check the value and its okay because we only\n",
    "# consider the sum of Description/ or product tag as a feature if needed"
   ]
  },
  {
   "cell_type": "code",
   "execution_count": 10,
   "id": "b4046605",
   "metadata": {},
   "outputs": [
    {
     "data": {
      "text/html": [
       "<div>\n",
       "<style scoped>\n",
       "    .dataframe tbody tr th:only-of-type {\n",
       "        vertical-align: middle;\n",
       "    }\n",
       "\n",
       "    .dataframe tbody tr th {\n",
       "        vertical-align: top;\n",
       "    }\n",
       "\n",
       "    .dataframe thead th {\n",
       "        text-align: right;\n",
       "    }\n",
       "</style>\n",
       "<table border=\"1\" class=\"dataframe\">\n",
       "  <thead>\n",
       "    <tr style=\"text-align: right;\">\n",
       "      <th></th>\n",
       "      <th>Invoice</th>\n",
       "      <th>StockCode</th>\n",
       "      <th>Description</th>\n",
       "      <th>Quantity</th>\n",
       "      <th>InvoiceDate</th>\n",
       "      <th>Price</th>\n",
       "      <th>Customer ID</th>\n",
       "      <th>Country</th>\n",
       "    </tr>\n",
       "  </thead>\n",
       "  <tbody>\n",
       "    <tr>\n",
       "      <th>45455</th>\n",
       "      <td>493439</td>\n",
       "      <td>79337</td>\n",
       "      <td>BLUE FLOCK GLASS CANDLEHOLDER</td>\n",
       "      <td>96</td>\n",
       "      <td>2010-04-01 13:25:00</td>\n",
       "      <td>0.38</td>\n",
       "      <td>13694.0</td>\n",
       "      <td>United Kingdom</td>\n",
       "    </tr>\n",
       "    <tr>\n",
       "      <th>72208</th>\n",
       "      <td>495939</td>\n",
       "      <td>79337</td>\n",
       "      <td>BLUE FLOCK GLASS CANDLEHOLDER</td>\n",
       "      <td>1</td>\n",
       "      <td>2010-01-27 15:49:00</td>\n",
       "      <td>1.65</td>\n",
       "      <td>13101.0</td>\n",
       "      <td>United Kingdom</td>\n",
       "    </tr>\n",
       "  </tbody>\n",
       "</table>\n",
       "</div>"
      ],
      "text/plain": [
       "      Invoice StockCode                    Description  Quantity  \\\n",
       "45455  493439     79337  BLUE FLOCK GLASS CANDLEHOLDER        96   \n",
       "72208  495939     79337  BLUE FLOCK GLASS CANDLEHOLDER         1   \n",
       "\n",
       "              InvoiceDate  Price Customer ID         Country  \n",
       "45455 2010-04-01 13:25:00   0.38     13694.0  United Kingdom  \n",
       "72208 2010-01-27 15:49:00   1.65     13101.0  United Kingdom  "
      ]
     },
     "execution_count": 10,
     "metadata": {},
     "output_type": "execute_result"
    }
   ],
   "source": [
    "#this is the check\n",
    "\n",
    "df[df['StockCode'] == '79337'].head(2)"
   ]
  },
  {
   "cell_type": "code",
   "execution_count": 11,
   "id": "288c558c",
   "metadata": {},
   "outputs": [
    {
     "data": {
      "text/html": [
       "<div>\n",
       "<style scoped>\n",
       "    .dataframe tbody tr th:only-of-type {\n",
       "        vertical-align: middle;\n",
       "    }\n",
       "\n",
       "    .dataframe tbody tr th {\n",
       "        vertical-align: top;\n",
       "    }\n",
       "\n",
       "    .dataframe thead th {\n",
       "        text-align: right;\n",
       "    }\n",
       "</style>\n",
       "<table border=\"1\" class=\"dataframe\">\n",
       "  <thead>\n",
       "    <tr style=\"text-align: right;\">\n",
       "      <th></th>\n",
       "      <th>Invoice</th>\n",
       "      <th>StockCode</th>\n",
       "      <th>Description</th>\n",
       "      <th>Quantity</th>\n",
       "      <th>InvoiceDate</th>\n",
       "      <th>Price</th>\n",
       "      <th>Customer ID</th>\n",
       "      <th>Country</th>\n",
       "    </tr>\n",
       "  </thead>\n",
       "  <tbody>\n",
       "    <tr>\n",
       "      <th>3760</th>\n",
       "      <td>489783</td>\n",
       "      <td>79328</td>\n",
       "      <td>BLUE FLOCK GLASS CANDLEHOLDER</td>\n",
       "      <td>48</td>\n",
       "      <td>2009-02-12 11:47:00</td>\n",
       "      <td>0.38</td>\n",
       "      <td>13269.0</td>\n",
       "      <td>United Kingdom</td>\n",
       "    </tr>\n",
       "    <tr>\n",
       "      <th>13684</th>\n",
       "      <td>490494</td>\n",
       "      <td>79328</td>\n",
       "      <td>BLUE FLOCK GLASS CANDLEHOLDER</td>\n",
       "      <td>4</td>\n",
       "      <td>2009-06-12 13:29:00</td>\n",
       "      <td>1.65</td>\n",
       "      <td>17561.0</td>\n",
       "      <td>United Kingdom</td>\n",
       "    </tr>\n",
       "  </tbody>\n",
       "</table>\n",
       "</div>"
      ],
      "text/plain": [
       "      Invoice StockCode                    Description  Quantity  \\\n",
       "3760   489783     79328  BLUE FLOCK GLASS CANDLEHOLDER        48   \n",
       "13684  490494     79328  BLUE FLOCK GLASS CANDLEHOLDER         4   \n",
       "\n",
       "              InvoiceDate  Price Customer ID         Country  \n",
       "3760  2009-02-12 11:47:00   0.38     13269.0  United Kingdom  \n",
       "13684 2009-06-12 13:29:00   1.65     17561.0  United Kingdom  "
      ]
     },
     "execution_count": 11,
     "metadata": {},
     "output_type": "execute_result"
    }
   ],
   "source": [
    "df[df['StockCode'] == '79328'].head(2)"
   ]
  },
  {
   "cell_type": "markdown",
   "id": "7821f0e4",
   "metadata": {},
   "source": [
    "#### DESCRIPTIVE CHECK"
   ]
  },
  {
   "cell_type": "code",
   "execution_count": 10,
   "id": "29957bf9",
   "metadata": {},
   "outputs": [],
   "source": [
    "#split\n",
    "\n",
    "numeric,category = group_feature(df2)"
   ]
  },
  {
   "cell_type": "code",
   "execution_count": 14,
   "id": "4e46e73c",
   "metadata": {},
   "outputs": [
    {
     "data": {
      "text/html": [
       "<div>\n",
       "<style scoped>\n",
       "    .dataframe tbody tr th:only-of-type {\n",
       "        vertical-align: middle;\n",
       "    }\n",
       "\n",
       "    .dataframe tbody tr th {\n",
       "        vertical-align: top;\n",
       "    }\n",
       "\n",
       "    .dataframe thead th {\n",
       "        text-align: right;\n",
       "    }\n",
       "</style>\n",
       "<table border=\"1\" class=\"dataframe\">\n",
       "  <thead>\n",
       "    <tr style=\"text-align: right;\">\n",
       "      <th></th>\n",
       "      <th>Quantity</th>\n",
       "      <th>Price</th>\n",
       "    </tr>\n",
       "  </thead>\n",
       "  <tbody>\n",
       "    <tr>\n",
       "      <th>count</th>\n",
       "      <td>785599.000000</td>\n",
       "      <td>785599.000000</td>\n",
       "    </tr>\n",
       "    <tr>\n",
       "      <th>mean</th>\n",
       "      <td>12.611412</td>\n",
       "      <td>3.716362</td>\n",
       "    </tr>\n",
       "    <tr>\n",
       "      <th>std</th>\n",
       "      <td>143.474332</td>\n",
       "      <td>71.912928</td>\n",
       "    </tr>\n",
       "    <tr>\n",
       "      <th>min</th>\n",
       "      <td>-74215.000000</td>\n",
       "      <td>0.000000</td>\n",
       "    </tr>\n",
       "    <tr>\n",
       "      <th>25%</th>\n",
       "      <td>2.000000</td>\n",
       "      <td>1.250000</td>\n",
       "    </tr>\n",
       "    <tr>\n",
       "      <th>50%</th>\n",
       "      <td>5.000000</td>\n",
       "      <td>1.950000</td>\n",
       "    </tr>\n",
       "    <tr>\n",
       "      <th>75%</th>\n",
       "      <td>12.000000</td>\n",
       "      <td>3.750000</td>\n",
       "    </tr>\n",
       "    <tr>\n",
       "      <th>max</th>\n",
       "      <td>74215.000000</td>\n",
       "      <td>38970.000000</td>\n",
       "    </tr>\n",
       "  </tbody>\n",
       "</table>\n",
       "</div>"
      ],
      "text/plain": [
       "            Quantity          Price\n",
       "count  785599.000000  785599.000000\n",
       "mean       12.611412       3.716362\n",
       "std       143.474332      71.912928\n",
       "min    -74215.000000       0.000000\n",
       "25%         2.000000       1.250000\n",
       "50%         5.000000       1.950000\n",
       "75%        12.000000       3.750000\n",
       "max     74215.000000   38970.000000"
      ]
     },
     "execution_count": 14,
     "metadata": {},
     "output_type": "execute_result"
    }
   ],
   "source": [
    "df2[numeric].describe()"
   ]
  },
  {
   "cell_type": "code",
   "execution_count": null,
   "id": "d4a4dac1",
   "metadata": {},
   "outputs": [],
   "source": [
    "# the min and max of quantity is very high , it is weird "
   ]
  },
  {
   "cell_type": "code",
   "execution_count": 14,
   "id": "67708030",
   "metadata": {},
   "outputs": [
    {
     "data": {
      "text/html": [
       "<div>\n",
       "<style scoped>\n",
       "    .dataframe tbody tr th:only-of-type {\n",
       "        vertical-align: middle;\n",
       "    }\n",
       "\n",
       "    .dataframe tbody tr th {\n",
       "        vertical-align: top;\n",
       "    }\n",
       "\n",
       "    .dataframe thead th {\n",
       "        text-align: right;\n",
       "    }\n",
       "</style>\n",
       "<table border=\"1\" class=\"dataframe\">\n",
       "  <thead>\n",
       "    <tr style=\"text-align: right;\">\n",
       "      <th></th>\n",
       "      <th>Invoice</th>\n",
       "      <th>StockCode</th>\n",
       "      <th>Description</th>\n",
       "      <th>Quantity</th>\n",
       "      <th>InvoiceDate</th>\n",
       "      <th>Price</th>\n",
       "      <th>Customer ID</th>\n",
       "      <th>Country</th>\n",
       "    </tr>\n",
       "  </thead>\n",
       "  <tbody>\n",
       "    <tr>\n",
       "      <th>587080</th>\n",
       "      <td>541431</td>\n",
       "      <td>23166</td>\n",
       "      <td>MEDIUM CERAMIC TOP STORAGE JAR</td>\n",
       "      <td>74215</td>\n",
       "      <td>2011-01-18 10:01:00</td>\n",
       "      <td>1.04</td>\n",
       "      <td>12346.0</td>\n",
       "      <td>United Kingdom</td>\n",
       "    </tr>\n",
       "  </tbody>\n",
       "</table>\n",
       "</div>"
      ],
      "text/plain": [
       "       Invoice StockCode                     Description  Quantity  \\\n",
       "587080  541431     23166  MEDIUM CERAMIC TOP STORAGE JAR     74215   \n",
       "\n",
       "               InvoiceDate  Price Customer ID         Country  \n",
       "587080 2011-01-18 10:01:00   1.04     12346.0  United Kingdom  "
      ]
     },
     "execution_count": 14,
     "metadata": {},
     "output_type": "execute_result"
    }
   ],
   "source": [
    "df2[df2['Quantity'] == 74215]\n",
    "\n",
    "# its ceramic top storage but no insight here, further to outlier"
   ]
  },
  {
   "cell_type": "code",
   "execution_count": 10,
   "id": "9e041f21",
   "metadata": {},
   "outputs": [
    {
     "data": {
      "text/html": [
       "<div>\n",
       "<style scoped>\n",
       "    .dataframe tbody tr th:only-of-type {\n",
       "        vertical-align: middle;\n",
       "    }\n",
       "\n",
       "    .dataframe tbody tr th {\n",
       "        vertical-align: top;\n",
       "    }\n",
       "\n",
       "    .dataframe thead th {\n",
       "        text-align: right;\n",
       "    }\n",
       "</style>\n",
       "<table border=\"1\" class=\"dataframe\">\n",
       "  <thead>\n",
       "    <tr style=\"text-align: right;\">\n",
       "      <th></th>\n",
       "      <th>Invoice</th>\n",
       "      <th>StockCode</th>\n",
       "      <th>Description</th>\n",
       "      <th>Quantity</th>\n",
       "      <th>InvoiceDate</th>\n",
       "      <th>Price</th>\n",
       "      <th>Customer ID</th>\n",
       "      <th>Country</th>\n",
       "    </tr>\n",
       "  </thead>\n",
       "  <tbody>\n",
       "    <tr>\n",
       "      <th>178</th>\n",
       "      <td>C489449</td>\n",
       "      <td>22087</td>\n",
       "      <td>PAPER BUNTING WHITE LACE</td>\n",
       "      <td>-12</td>\n",
       "      <td>2009-01-12 10:33:00</td>\n",
       "      <td>2.95</td>\n",
       "      <td>16321.0</td>\n",
       "      <td>Australia</td>\n",
       "    </tr>\n",
       "    <tr>\n",
       "      <th>179</th>\n",
       "      <td>C489449</td>\n",
       "      <td>85206A</td>\n",
       "      <td>CREAM FELT EASTER EGG BASKET</td>\n",
       "      <td>-6</td>\n",
       "      <td>2009-01-12 10:33:00</td>\n",
       "      <td>1.65</td>\n",
       "      <td>16321.0</td>\n",
       "      <td>Australia</td>\n",
       "    </tr>\n",
       "    <tr>\n",
       "      <th>180</th>\n",
       "      <td>C489449</td>\n",
       "      <td>21895</td>\n",
       "      <td>POTTING SHED SOW 'N' GROW SET</td>\n",
       "      <td>-4</td>\n",
       "      <td>2009-01-12 10:33:00</td>\n",
       "      <td>4.25</td>\n",
       "      <td>16321.0</td>\n",
       "      <td>Australia</td>\n",
       "    </tr>\n",
       "  </tbody>\n",
       "</table>\n",
       "</div>"
      ],
      "text/plain": [
       "     Invoice StockCode                    Description  Quantity  \\\n",
       "178  C489449     22087       PAPER BUNTING WHITE LACE       -12   \n",
       "179  C489449    85206A   CREAM FELT EASTER EGG BASKET        -6   \n",
       "180  C489449     21895  POTTING SHED SOW 'N' GROW SET        -4   \n",
       "\n",
       "            InvoiceDate  Price Customer ID    Country  \n",
       "178 2009-01-12 10:33:00   2.95     16321.0  Australia  \n",
       "179 2009-01-12 10:33:00   1.65     16321.0  Australia  \n",
       "180 2009-01-12 10:33:00   4.25     16321.0  Australia  "
      ]
     },
     "execution_count": 10,
     "metadata": {},
     "output_type": "execute_result"
    }
   ],
   "source": [
    "ds = df2[df2['Quantity'] <0]\n",
    "df2[(df2['Invoice'].str.startswith('C'))].head(3)\n",
    "\n",
    "# for quantity below 0 or minus are values that cancel order we can build feature for false order"
   ]
  },
  {
   "cell_type": "code",
   "execution_count": 15,
   "id": "bc13ee60",
   "metadata": {
    "scrolled": true
   },
   "outputs": [
    {
     "name": "stderr",
     "output_type": "stream",
     "text": [
      "C:\\Users\\hp\\AppData\\Local\\Temp\\ipykernel_83060\\3635342749.py:1: FutureWarning: Treating datetime data as categorical rather than numeric in `.describe` is deprecated and will be removed in a future version of pandas. Specify `datetime_is_numeric=True` to silence this warning and adopt the future behavior now.\n",
      "  df2[category].describe()\n"
     ]
    },
    {
     "data": {
      "text/html": [
       "<div>\n",
       "<style scoped>\n",
       "    .dataframe tbody tr th:only-of-type {\n",
       "        vertical-align: middle;\n",
       "    }\n",
       "\n",
       "    .dataframe tbody tr th {\n",
       "        vertical-align: top;\n",
       "    }\n",
       "\n",
       "    .dataframe thead th {\n",
       "        text-align: right;\n",
       "    }\n",
       "</style>\n",
       "<table border=\"1\" class=\"dataframe\">\n",
       "  <thead>\n",
       "    <tr style=\"text-align: right;\">\n",
       "      <th></th>\n",
       "      <th>Invoice</th>\n",
       "      <th>StockCode</th>\n",
       "      <th>Description</th>\n",
       "      <th>InvoiceDate</th>\n",
       "      <th>Customer ID</th>\n",
       "      <th>Country</th>\n",
       "    </tr>\n",
       "  </thead>\n",
       "  <tbody>\n",
       "    <tr>\n",
       "      <th>count</th>\n",
       "      <td>785599</td>\n",
       "      <td>785599</td>\n",
       "      <td>785599</td>\n",
       "      <td>785599</td>\n",
       "      <td>785599</td>\n",
       "      <td>785599</td>\n",
       "    </tr>\n",
       "    <tr>\n",
       "      <th>unique</th>\n",
       "      <td>44278</td>\n",
       "      <td>4645</td>\n",
       "      <td>4622</td>\n",
       "      <td>40904</td>\n",
       "      <td>5924</td>\n",
       "      <td>41</td>\n",
       "    </tr>\n",
       "    <tr>\n",
       "      <th>top</th>\n",
       "      <td>576339</td>\n",
       "      <td>85123A</td>\n",
       "      <td>WHITE HANGING HEART T-LIGHT HOLDER</td>\n",
       "      <td>2011-11-14 15:27:00</td>\n",
       "      <td>17841.0</td>\n",
       "      <td>United Kingdom</td>\n",
       "    </tr>\n",
       "    <tr>\n",
       "      <th>freq</th>\n",
       "      <td>542</td>\n",
       "      <td>5114</td>\n",
       "      <td>5114</td>\n",
       "      <td>543</td>\n",
       "      <td>12324</td>\n",
       "      <td>705114</td>\n",
       "    </tr>\n",
       "    <tr>\n",
       "      <th>first</th>\n",
       "      <td>NaN</td>\n",
       "      <td>NaN</td>\n",
       "      <td>NaN</td>\n",
       "      <td>2009-01-12 07:45:00</td>\n",
       "      <td>NaN</td>\n",
       "      <td>NaN</td>\n",
       "    </tr>\n",
       "    <tr>\n",
       "      <th>last</th>\n",
       "      <td>NaN</td>\n",
       "      <td>NaN</td>\n",
       "      <td>NaN</td>\n",
       "      <td>2011-12-10 17:19:00</td>\n",
       "      <td>NaN</td>\n",
       "      <td>NaN</td>\n",
       "    </tr>\n",
       "  </tbody>\n",
       "</table>\n",
       "</div>"
      ],
      "text/plain": [
       "       Invoice StockCode                         Description  \\\n",
       "count   785599    785599                              785599   \n",
       "unique   44278      4645                                4622   \n",
       "top     576339    85123A  WHITE HANGING HEART T-LIGHT HOLDER   \n",
       "freq       542      5114                                5114   \n",
       "first      NaN       NaN                                 NaN   \n",
       "last       NaN       NaN                                 NaN   \n",
       "\n",
       "                InvoiceDate Customer ID         Country  \n",
       "count                785599      785599          785599  \n",
       "unique                40904        5924              41  \n",
       "top     2011-11-14 15:27:00     17841.0  United Kingdom  \n",
       "freq                    543       12324          705114  \n",
       "first   2009-01-12 07:45:00         NaN             NaN  \n",
       "last    2011-12-10 17:19:00         NaN             NaN  "
      ]
     },
     "execution_count": 15,
     "metadata": {},
     "output_type": "execute_result"
    }
   ],
   "source": [
    "df2[category].describe()"
   ]
  },
  {
   "cell_type": "code",
   "execution_count": 16,
   "id": "4f63cc24",
   "metadata": {},
   "outputs": [],
   "source": [
    "# most of customers invoice/sales are in UK\n",
    "# white hanging heart t-light holder is the most product description tag"
   ]
  },
  {
   "cell_type": "code",
   "execution_count": null,
   "id": "48143c7d",
   "metadata": {},
   "outputs": [],
   "source": [
    "# pembagian success dan fail insight\n",
    "# produk apa yang paling banyak di cancel\n",
    "# dari order success produk apa yang paling populer\n",
    "# produk apa yang populer di tiap tahun\n",
    "# produk apa yang paling banyak di cancel di tiap tahun\n",
    "# negara mana yang paling banyak cancel dan apa produknya\n",
    "# produk apa yang paling populer di top negara dengan success terbanyak"
   ]
  },
  {
   "cell_type": "markdown",
   "id": "e4a722cd",
   "metadata": {},
   "source": [
    "## EDA (Exploratory Data Analyst)"
   ]
  },
  {
   "cell_type": "code",
   "execution_count": 11,
   "id": "1e06fa6a",
   "metadata": {},
   "outputs": [],
   "source": [
    "#success and fail sales\n",
    "\n",
    "success = df2[~(df2['Invoice'].str.startswith('C'))] \n",
    "fail = df2[(df2['Invoice'].str.startswith('C'))] "
   ]
  },
  {
   "cell_type": "code",
   "execution_count": 12,
   "id": "4051e582",
   "metadata": {},
   "outputs": [
    {
     "name": "stdout",
     "output_type": "stream",
     "text": [
      "(767439, 8) (18160, 8)\n"
     ]
    }
   ],
   "source": [
    "print(success.shape, fail.shape)\n",
    "\n",
    "#ada 767439 sales success dan 18160 fail sales"
   ]
  },
  {
   "cell_type": "markdown",
   "id": "95ddd588",
   "metadata": {},
   "source": [
    "##### FAIL RATE "
   ]
  },
  {
   "cell_type": "code",
   "execution_count": 16,
   "id": "71ad8366",
   "metadata": {},
   "outputs": [
    {
     "data": {
      "text/plain": [
       "0.02366311850192654"
      ]
     },
     "execution_count": 16,
     "metadata": {},
     "output_type": "execute_result"
    }
   ],
   "source": [
    "18160/767439\n",
    "\n",
    "\n",
    "# fail rate sangat kecil 2 %"
   ]
  },
  {
   "cell_type": "markdown",
   "id": "6edbd289",
   "metadata": {},
   "source": [
    "##### TOP PRODUCT ALL TIME VS TOP SUCCESS PRODUCT ALL TIME"
   ]
  },
  {
   "cell_type": "code",
   "execution_count": 17,
   "id": "813da65e",
   "metadata": {},
   "outputs": [
    {
     "data": {
      "text/plain": [
       "<AxesSubplot:xlabel='Description', ylabel='Invoice'>"
      ]
     },
     "execution_count": 17,
     "metadata": {},
     "output_type": "execute_result"
    },
    {
     "data": {
      "image/png": "[encoded data removed]",
      "text/plain": [
       "<Figure size 3200x1000 with 1 Axes>"
      ]
     },
     "metadata": {},
     "output_type": "display_data"
    }
   ],
   "source": [
    "# top product all time\n",
    "\n",
    "plt.figure(figsize= (32,10))\n",
    "\n",
    "ds = df2.groupby('Description')['Invoice'].count().reset_index().sort_values(by= 'Invoice',ascending= False).head(10)\n",
    "sns.barplot(x=ds['Description'], y= ds['Invoice'])"
   ]
  },
  {
   "cell_type": "code",
   "execution_count": 21,
   "id": "52494863",
   "metadata": {},
   "outputs": [
    {
     "data": {
      "text/plain": [
       "<AxesSubplot:xlabel='Description', ylabel='Invoice'>"
      ]
     },
     "execution_count": 21,
     "metadata": {},
     "output_type": "execute_result"
    },
    {
     "data": {
      "image/png": "[encoded data removed]",
      "text/plain": [
       "<Figure size 1800x1000 with 1 Axes>"
      ]
     },
     "metadata": {},
     "output_type": "display_data"
    }
   ],
   "source": [
    "# top success product\n",
    "\n",
    "plt.figure(figsize= (18,10))\n",
    "\n",
    "\n",
    "ds = success.groupby('Description')['Invoice'].count().reset_index().sort_values(by= 'Invoice',ascending= False).head(5)\n",
    "sns.barplot(x=ds['Description'], y= ds['Invoice'])"
   ]
  },
  {
   "cell_type": "code",
   "execution_count": 65,
   "id": "9d05c92e",
   "metadata": {},
   "outputs": [
    {
     "data": {
      "text/plain": [
       "<AxesSubplot:xlabel='Description', ylabel='Invoice'>"
      ]
     },
     "execution_count": 65,
     "metadata": {},
     "output_type": "execute_result"
    },
    {
     "data": {
      "image/png": "[encoded data removed]",
      "text/plain": [
       "<Figure size 3000x800 with 1 Axes>"
      ]
     },
     "metadata": {},
     "output_type": "display_data"
    }
   ],
   "source": [
    "# most fail product\n",
    "\n",
    "plt.figure(figsize= (30,8))\n",
    "\n",
    "ds = fail.groupby('Description')['Invoice'].count().reset_index().sort_values(by= 'Invoice',ascending= False).head(10)\n",
    "sns.barplot(x=ds['Description'], y= ds['Invoice'])"
   ]
  },
  {
   "cell_type": "code",
   "execution_count": 22,
   "id": "9ae90432",
   "metadata": {},
   "outputs": [
    {
     "data": {
      "text/html": [
       "<div>\n",
       "<style scoped>\n",
       "    .dataframe tbody tr th:only-of-type {\n",
       "        vertical-align: middle;\n",
       "    }\n",
       "\n",
       "    .dataframe tbody tr th {\n",
       "        vertical-align: top;\n",
       "    }\n",
       "\n",
       "    .dataframe thead th {\n",
       "        text-align: right;\n",
       "    }\n",
       "</style>\n",
       "<table border=\"1\" class=\"dataframe\">\n",
       "  <thead>\n",
       "    <tr style=\"text-align: right;\">\n",
       "      <th></th>\n",
       "      <th>Description</th>\n",
       "      <th>Year</th>\n",
       "      <th>Invoice</th>\n",
       "    </tr>\n",
       "  </thead>\n",
       "  <tbody>\n",
       "    <tr>\n",
       "      <th>9768</th>\n",
       "      <td>WHITE HANGING HEART T-LIGHT HOLDER</td>\n",
       "      <td>2011</td>\n",
       "      <td>1810</td>\n",
       "    </tr>\n",
       "    <tr>\n",
       "      <th>7356</th>\n",
       "      <td>REGENCY CAKESTAND 3 TIER</td>\n",
       "      <td>2011</td>\n",
       "      <td>1705</td>\n",
       "    </tr>\n",
       "    <tr>\n",
       "      <th>4729</th>\n",
       "      <td>JUMBO BAG RED WHITE SPOTTY</td>\n",
       "      <td>2011</td>\n",
       "      <td>1538</td>\n",
       "    </tr>\n",
       "    <tr>\n",
       "      <th>6130</th>\n",
       "      <td>PARTY BUNTING</td>\n",
       "      <td>2011</td>\n",
       "      <td>1375</td>\n",
       "    </tr>\n",
       "    <tr>\n",
       "      <th>597</th>\n",
       "      <td>ASSORTED COLOUR BIRD ORNAMENT</td>\n",
       "      <td>2011</td>\n",
       "      <td>1286</td>\n",
       "    </tr>\n",
       "    <tr>\n",
       "      <th>9767</th>\n",
       "      <td>WHITE HANGING HEART T-LIGHT HOLDER</td>\n",
       "      <td>2010</td>\n",
       "      <td>3013</td>\n",
       "    </tr>\n",
       "    <tr>\n",
       "      <th>7355</th>\n",
       "      <td>REGENCY CAKESTAND 3 TIER</td>\n",
       "      <td>2010</td>\n",
       "      <td>1937</td>\n",
       "    </tr>\n",
       "    <tr>\n",
       "      <th>4728</th>\n",
       "      <td>JUMBO BAG RED WHITE SPOTTY</td>\n",
       "      <td>2010</td>\n",
       "      <td>1689</td>\n",
       "    </tr>\n",
       "    <tr>\n",
       "      <th>5993</th>\n",
       "      <td>PACK OF 72 RETRO SPOT CAKE CASES</td>\n",
       "      <td>2010</td>\n",
       "      <td>1479</td>\n",
       "    </tr>\n",
       "    <tr>\n",
       "      <th>8947</th>\n",
       "      <td>STRAWBERRY CERAMIC TRINKET BOX</td>\n",
       "      <td>2010</td>\n",
       "      <td>1375</td>\n",
       "    </tr>\n",
       "    <tr>\n",
       "      <th>9766</th>\n",
       "      <td>WHITE HANGING HEART T-LIGHT HOLDER</td>\n",
       "      <td>2009</td>\n",
       "      <td>291</td>\n",
       "    </tr>\n",
       "    <tr>\n",
       "      <th>7864</th>\n",
       "      <td>SCOTTIE DOG HOT WATER BOTTLE</td>\n",
       "      <td>2009</td>\n",
       "      <td>197</td>\n",
       "    </tr>\n",
       "    <tr>\n",
       "      <th>4518</th>\n",
       "      <td>HOT WATER BOTTLE TEA AND SYMPATHY</td>\n",
       "      <td>2009</td>\n",
       "      <td>168</td>\n",
       "    </tr>\n",
       "    <tr>\n",
       "      <th>8946</th>\n",
       "      <td>STRAWBERRY CERAMIC TRINKET BOX</td>\n",
       "      <td>2009</td>\n",
       "      <td>161</td>\n",
       "    </tr>\n",
       "    <tr>\n",
       "      <th>760</th>\n",
       "      <td>BAKING SET 9 PIECE RETROSPOT</td>\n",
       "      <td>2009</td>\n",
       "      <td>153</td>\n",
       "    </tr>\n",
       "  </tbody>\n",
       "</table>\n",
       "</div>"
      ],
      "text/plain": [
       "                             Description  Year  Invoice\n",
       "9768  WHITE HANGING HEART T-LIGHT HOLDER  2011     1810\n",
       "7356            REGENCY CAKESTAND 3 TIER  2011     1705\n",
       "4729         JUMBO BAG RED WHITE SPOTTY   2011     1538\n",
       "6130                       PARTY BUNTING  2011     1375\n",
       "597        ASSORTED COLOUR BIRD ORNAMENT  2011     1286\n",
       "9767  WHITE HANGING HEART T-LIGHT HOLDER  2010     3013\n",
       "7355            REGENCY CAKESTAND 3 TIER  2010     1937\n",
       "4728         JUMBO BAG RED WHITE SPOTTY   2010     1689\n",
       "5993    PACK OF 72 RETRO SPOT CAKE CASES  2010     1479\n",
       "8947      STRAWBERRY CERAMIC TRINKET BOX  2010     1375\n",
       "9766  WHITE HANGING HEART T-LIGHT HOLDER  2009      291\n",
       "7864        SCOTTIE DOG HOT WATER BOTTLE  2009      197\n",
       "4518   HOT WATER BOTTLE TEA AND SYMPATHY  2009      168\n",
       "8946      STRAWBERRY CERAMIC TRINKET BOX  2009      161\n",
       "760        BAKING SET 9 PIECE RETROSPOT   2009      153"
      ]
     },
     "execution_count": 22,
     "metadata": {},
     "output_type": "execute_result"
    }
   ],
   "source": [
    "# top product by year\n",
    "\n",
    "ds = df2.copy()\n",
    "ds['Year'] = df['InvoiceDate'].dt.year\n",
    "ds = ds.groupby(['Description','Year'])['Invoice'].count().reset_index()\n",
    "top_2009 = ds[ds['Year'] == 2009].sort_values(by='Invoice',ascending = False).head(5)\n",
    "top_2010 = ds[ds['Year'] == 2010].sort_values(by='Invoice',ascending = False).head(5)\n",
    "top_2011 = ds[ds['Year'] == 2011].sort_values(by='Invoice',ascending = False).head(5)\n",
    "top = pd.concat([top_2009,top_2010,top_2011],axis=0).sort_values(by=['Year','Invoice'],ascending=False)\n",
    "top"
   ]
  },
  {
   "cell_type": "code",
   "execution_count": 23,
   "id": "eada54f6",
   "metadata": {},
   "outputs": [
    {
     "data": {
      "text/plain": [
       "array(['SET OF KITCHEN WALL  STICKERS', 'WHITE ORCHID FLOWER LIGHTS',\n",
       "       'VINTAGE BLUE VACUUM FLASK 0.5L ',\n",
       "       'SET 6 MINI SUSHI SET FRIDGE MAGNETS',\n",
       "       'ZINC HEART HANGER WITH HOOKS',\n",
       "       'BLUE GREEN CHRISTMAS HANGING BALL ',\n",
       "       'PURPLE ORCHID FLOWER LIGHTS', 'HAND OPEN SHAPE CHROME',\n",
       "       'VINTAGE WOOD ORGANISER', 'LARGE GLASS HEART TRINKET POT',\n",
       "       'S/4 HEART CRYSTAL FRIDGE MAGNETS',\n",
       "       'ENGLISH ROSE DESIGN KITCHEN APRON',\n",
       "       'LARGE SILVER BALUSTRADE CANDLESTICK', 'PINK EAR MUFF HEADPHONES',\n",
       "       'CRUK Commission'], dtype=object)"
      ]
     },
     "execution_count": 23,
     "metadata": {},
     "output_type": "execute_result"
    }
   ],
   "source": [
    "#product never have sales\n",
    "\n",
    "fail[~(fail['Description'].isin(success['Description'].unique()))]['Description'].unique()"
   ]
  },
  {
   "cell_type": "code",
   "execution_count": 24,
   "id": "e2057e76",
   "metadata": {},
   "outputs": [
    {
     "data": {
      "text/html": [
       "<div>\n",
       "<style scoped>\n",
       "    .dataframe tbody tr th:only-of-type {\n",
       "        vertical-align: middle;\n",
       "    }\n",
       "\n",
       "    .dataframe tbody tr th {\n",
       "        vertical-align: top;\n",
       "    }\n",
       "\n",
       "    .dataframe thead th {\n",
       "        text-align: right;\n",
       "    }\n",
       "</style>\n",
       "<table border=\"1\" class=\"dataframe\">\n",
       "  <thead>\n",
       "    <tr style=\"text-align: right;\">\n",
       "      <th></th>\n",
       "      <th>no_sales_description</th>\n",
       "      <th>total_engage</th>\n",
       "    </tr>\n",
       "  </thead>\n",
       "  <tbody>\n",
       "    <tr>\n",
       "      <th>1</th>\n",
       "      <td>CRUK Commission</td>\n",
       "      <td>15</td>\n",
       "    </tr>\n",
       "    <tr>\n",
       "      <th>13</th>\n",
       "      <td>WHITE ORCHID FLOWER LIGHTS</td>\n",
       "      <td>5</td>\n",
       "    </tr>\n",
       "    <tr>\n",
       "      <th>2</th>\n",
       "      <td>ENGLISH ROSE DESIGN KITCHEN APRON</td>\n",
       "      <td>2</td>\n",
       "    </tr>\n",
       "    <tr>\n",
       "      <th>6</th>\n",
       "      <td>PINK EAR MUFF HEADPHONES</td>\n",
       "      <td>2</td>\n",
       "    </tr>\n",
       "    <tr>\n",
       "      <th>7</th>\n",
       "      <td>PURPLE ORCHID FLOWER LIGHTS</td>\n",
       "      <td>2</td>\n",
       "    </tr>\n",
       "    <tr>\n",
       "      <th>0</th>\n",
       "      <td>BLUE GREEN CHRISTMAS HANGING BALL</td>\n",
       "      <td>1</td>\n",
       "    </tr>\n",
       "    <tr>\n",
       "      <th>3</th>\n",
       "      <td>HAND OPEN SHAPE CHROME</td>\n",
       "      <td>1</td>\n",
       "    </tr>\n",
       "    <tr>\n",
       "      <th>4</th>\n",
       "      <td>LARGE GLASS HEART TRINKET POT</td>\n",
       "      <td>1</td>\n",
       "    </tr>\n",
       "    <tr>\n",
       "      <th>5</th>\n",
       "      <td>LARGE SILVER BALUSTRADE CANDLESTICK</td>\n",
       "      <td>1</td>\n",
       "    </tr>\n",
       "    <tr>\n",
       "      <th>8</th>\n",
       "      <td>S/4 HEART CRYSTAL FRIDGE MAGNETS</td>\n",
       "      <td>1</td>\n",
       "    </tr>\n",
       "    <tr>\n",
       "      <th>9</th>\n",
       "      <td>SET 6 MINI SUSHI SET FRIDGE MAGNETS</td>\n",
       "      <td>1</td>\n",
       "    </tr>\n",
       "    <tr>\n",
       "      <th>10</th>\n",
       "      <td>SET OF KITCHEN WALL  STICKERS</td>\n",
       "      <td>1</td>\n",
       "    </tr>\n",
       "    <tr>\n",
       "      <th>11</th>\n",
       "      <td>VINTAGE BLUE VACUUM FLASK 0.5L</td>\n",
       "      <td>1</td>\n",
       "    </tr>\n",
       "    <tr>\n",
       "      <th>12</th>\n",
       "      <td>VINTAGE WOOD ORGANISER</td>\n",
       "      <td>1</td>\n",
       "    </tr>\n",
       "    <tr>\n",
       "      <th>14</th>\n",
       "      <td>ZINC HEART HANGER WITH HOOKS</td>\n",
       "      <td>1</td>\n",
       "    </tr>\n",
       "  </tbody>\n",
       "</table>\n",
       "</div>"
      ],
      "text/plain": [
       "                   no_sales_description  total_engage\n",
       "1                       CRUK Commission            15\n",
       "13           WHITE ORCHID FLOWER LIGHTS             5\n",
       "2     ENGLISH ROSE DESIGN KITCHEN APRON             2\n",
       "6              PINK EAR MUFF HEADPHONES             2\n",
       "7           PURPLE ORCHID FLOWER LIGHTS             2\n",
       "0    BLUE GREEN CHRISTMAS HANGING BALL              1\n",
       "3                HAND OPEN SHAPE CHROME             1\n",
       "4         LARGE GLASS HEART TRINKET POT             1\n",
       "5   LARGE SILVER BALUSTRADE CANDLESTICK             1\n",
       "8      S/4 HEART CRYSTAL FRIDGE MAGNETS             1\n",
       "9   SET 6 MINI SUSHI SET FRIDGE MAGNETS             1\n",
       "10        SET OF KITCHEN WALL  STICKERS             1\n",
       "11      VINTAGE BLUE VACUUM FLASK 0.5L              1\n",
       "12               VINTAGE WOOD ORGANISER             1\n",
       "14         ZINC HEART HANGER WITH HOOKS             1"
      ]
     },
     "execution_count": 24,
     "metadata": {},
     "output_type": "execute_result"
    }
   ],
   "source": [
    "# product that never have sales\n",
    "\n",
    "no_sales = fail[~(fail['Description'].isin(success['Description'].unique()))]\n",
    "no_sales = no_sales.groupby('Description')['Invoice'].nunique().reset_index()\n",
    "no_sales.columns = ['no_sales_description','total_engage']\n",
    "# sns.barplot(y=no_sales['total_engage'],x=no_sales['no_sales_description'])\n",
    "no_sales.sort_values(by='total_engage',ascending=False)"
   ]
  },
  {
   "cell_type": "code",
   "execution_count": null,
   "id": "3568e53a",
   "metadata": {},
   "outputs": [],
   "source": [
    "# this product is never have success sale for the recomendation can do to delete this product from stock"
   ]
  },
  {
   "cell_type": "code",
   "execution_count": 48,
   "id": "8efcf5b7",
   "metadata": {},
   "outputs": [
    {
     "data": {
      "text/html": [
       "<div>\n",
       "<style scoped>\n",
       "    .dataframe tbody tr th:only-of-type {\n",
       "        vertical-align: middle;\n",
       "    }\n",
       "\n",
       "    .dataframe tbody tr th {\n",
       "        vertical-align: top;\n",
       "    }\n",
       "\n",
       "    .dataframe thead th {\n",
       "        text-align: right;\n",
       "    }\n",
       "</style>\n",
       "<table border=\"1\" class=\"dataframe\">\n",
       "  <thead>\n",
       "    <tr style=\"text-align: right;\">\n",
       "      <th></th>\n",
       "      <th>Year</th>\n",
       "      <th>totalprice</th>\n",
       "      <th>change_percentage</th>\n",
       "    </tr>\n",
       "  </thead>\n",
       "  <tbody>\n",
       "    <tr>\n",
       "      <th>0</th>\n",
       "      <td>2009</td>\n",
       "      <td>683504.010</td>\n",
       "      <td>0.000000</td>\n",
       "    </tr>\n",
       "    <tr>\n",
       "      <th>1</th>\n",
       "      <td>2010</td>\n",
       "      <td>8374496.094</td>\n",
       "      <td>1125.229987</td>\n",
       "    </tr>\n",
       "    <tr>\n",
       "      <th>2</th>\n",
       "      <td>2011</td>\n",
       "      <td>7898900.844</td>\n",
       "      <td>-5.679091</td>\n",
       "    </tr>\n",
       "  </tbody>\n",
       "</table>\n",
       "</div>"
      ],
      "text/plain": [
       "   Year   totalprice  change_percentage\n",
       "0  2009   683504.010           0.000000\n",
       "1  2010  8374496.094        1125.229987\n",
       "2  2011  7898900.844          -5.679091"
      ]
     },
     "execution_count": 48,
     "metadata": {},
     "output_type": "execute_result"
    }
   ],
   "source": [
    "#penjualan kotor (total gross sales) by year & percentage\n",
    "\n",
    "ds = success.copy()\n",
    "ds['Year'] = ds['InvoiceDate'].dt.year\n",
    "ds['totalprice'] = ds['Quantity']*ds['Price']\n",
    "t = ds.groupby('Year')['totalprice'].sum().reset_index()\n",
    "t['change_percentage'] =  t['totalprice'].pct_change().mul(100).fillna(0)\n",
    "t"
   ]
  },
  {
   "cell_type": "code",
   "execution_count": 49,
   "id": "f81595e0",
   "metadata": {},
   "outputs": [
    {
     "data": {
      "text/plain": [
       "16956900.948"
      ]
     },
     "execution_count": 49,
     "metadata": {},
     "output_type": "execute_result"
    }
   ],
   "source": [
    "sum(t['totalprice'])"
   ]
  },
  {
   "cell_type": "code",
   "execution_count": 26,
   "id": "368f8a10",
   "metadata": {},
   "outputs": [
    {
     "data": {
      "text/html": [
       "<div>\n",
       "<style scoped>\n",
       "    .dataframe tbody tr th:only-of-type {\n",
       "        vertical-align: middle;\n",
       "    }\n",
       "\n",
       "    .dataframe tbody tr th {\n",
       "        vertical-align: top;\n",
       "    }\n",
       "\n",
       "    .dataframe thead th {\n",
       "        text-align: right;\n",
       "    }\n",
       "</style>\n",
       "<table border=\"1\" class=\"dataframe\">\n",
       "  <thead>\n",
       "    <tr style=\"text-align: right;\">\n",
       "      <th></th>\n",
       "      <th>Year</th>\n",
       "      <th>Description</th>\n",
       "      <th>totalprice</th>\n",
       "    </tr>\n",
       "  </thead>\n",
       "  <tbody>\n",
       "    <tr>\n",
       "      <th>9144</th>\n",
       "      <td>2011</td>\n",
       "      <td>REGENCY CAKESTAND 3 TIER</td>\n",
       "      <td>120721.42</td>\n",
       "    </tr>\n",
       "    <tr>\n",
       "      <th>10000</th>\n",
       "      <td>2011</td>\n",
       "      <td>WHITE HANGING HEART T-LIGHT HOLDER</td>\n",
       "      <td>89230.81</td>\n",
       "    </tr>\n",
       "    <tr>\n",
       "      <th>8431</th>\n",
       "      <td>2011</td>\n",
       "      <td>MEDIUM CERAMIC TOP STORAGE JAR</td>\n",
       "      <td>81243.22</td>\n",
       "    </tr>\n",
       "    <tr>\n",
       "      <th>8227</th>\n",
       "      <td>2011</td>\n",
       "      <td>JUMBO BAG RED WHITE SPOTTY</td>\n",
       "      <td>80580.90</td>\n",
       "    </tr>\n",
       "    <tr>\n",
       "      <th>9000</th>\n",
       "      <td>2011</td>\n",
       "      <td>POSTAGE</td>\n",
       "      <td>71270.96</td>\n",
       "    </tr>\n",
       "    <tr>\n",
       "      <th>5542</th>\n",
       "      <td>2010</td>\n",
       "      <td>REGENCY CAKESTAND 3 TIER</td>\n",
       "      <td>152973.00</td>\n",
       "    </tr>\n",
       "    <tr>\n",
       "      <th>6420</th>\n",
       "      <td>2010</td>\n",
       "      <td>WHITE HANGING HEART T-LIGHT HOLDER</td>\n",
       "      <td>139832.45</td>\n",
       "    </tr>\n",
       "    <tr>\n",
       "      <th>4868</th>\n",
       "      <td>2010</td>\n",
       "      <td>Manual</td>\n",
       "      <td>96379.47</td>\n",
       "    </tr>\n",
       "    <tr>\n",
       "      <th>4532</th>\n",
       "      <td>2010</td>\n",
       "      <td>JUMBO BAG RED WHITE SPOTTY</td>\n",
       "      <td>79986.60</td>\n",
       "    </tr>\n",
       "    <tr>\n",
       "      <th>2937</th>\n",
       "      <td>2010</td>\n",
       "      <td>ASSORTED COLOUR BIRD ORNAMENT</td>\n",
       "      <td>64319.53</td>\n",
       "    </tr>\n",
       "    <tr>\n",
       "      <th>2597</th>\n",
       "      <td>2009</td>\n",
       "      <td>WHITE HANGING HEART T-LIGHT HOLDER</td>\n",
       "      <td>16425.51</td>\n",
       "    </tr>\n",
       "    <tr>\n",
       "      <th>768</th>\n",
       "      <td>2009</td>\n",
       "      <td>EDWARDIAN PARASOL BLACK</td>\n",
       "      <td>8632.75</td>\n",
       "    </tr>\n",
       "    <tr>\n",
       "      <th>1581</th>\n",
       "      <td>2009</td>\n",
       "      <td>PAPER CHAIN KIT 50'S CHRISTMAS</td>\n",
       "      <td>7561.20</td>\n",
       "    </tr>\n",
       "    <tr>\n",
       "      <th>152</th>\n",
       "      <td>2009</td>\n",
       "      <td>ASSORTED COLOUR BIRD ORNAMENT</td>\n",
       "      <td>7271.89</td>\n",
       "    </tr>\n",
       "    <tr>\n",
       "      <th>1246</th>\n",
       "      <td>2009</td>\n",
       "      <td>JUMBO BAG RED WHITE SPOTTY</td>\n",
       "      <td>6512.70</td>\n",
       "    </tr>\n",
       "  </tbody>\n",
       "</table>\n",
       "</div>"
      ],
      "text/plain": [
       "       Year                         Description  totalprice\n",
       "9144   2011            REGENCY CAKESTAND 3 TIER   120721.42\n",
       "10000  2011  WHITE HANGING HEART T-LIGHT HOLDER    89230.81\n",
       "8431   2011      MEDIUM CERAMIC TOP STORAGE JAR    81243.22\n",
       "8227   2011         JUMBO BAG RED WHITE SPOTTY     80580.90\n",
       "9000   2011                             POSTAGE    71270.96\n",
       "5542   2010            REGENCY CAKESTAND 3 TIER   152973.00\n",
       "6420   2010  WHITE HANGING HEART T-LIGHT HOLDER   139832.45\n",
       "4868   2010                              Manual    96379.47\n",
       "4532   2010         JUMBO BAG RED WHITE SPOTTY     79986.60\n",
       "2937   2010       ASSORTED COLOUR BIRD ORNAMENT    64319.53\n",
       "2597   2009  WHITE HANGING HEART T-LIGHT HOLDER    16425.51\n",
       "768    2009             EDWARDIAN PARASOL BLACK     8632.75\n",
       "1581   2009     PAPER CHAIN KIT 50'S CHRISTMAS      7561.20\n",
       "152    2009       ASSORTED COLOUR BIRD ORNAMENT     7271.89\n",
       "1246   2009         JUMBO BAG RED WHITE SPOTTY      6512.70"
      ]
     },
     "execution_count": 26,
     "metadata": {},
     "output_type": "execute_result"
    }
   ],
   "source": [
    "# product product gross sales terbanyak\n",
    "\n",
    "ds = success.copy()\n",
    "ds['Year'] = ds['InvoiceDate'].dt.year\n",
    "ds['totalprice'] = ds['Quantity']*ds['Price']\n",
    "ds = ds.groupby(['Year','Description'])['totalprice'].sum().reset_index()\n",
    "top_2009 = ds[ds['Year'] == 2009].sort_values(by='totalprice',ascending = False).head(5)\n",
    "top_2010 = ds[ds['Year'] == 2010].sort_values(by='totalprice',ascending = False).head(5)\n",
    "top_2011 = ds[ds['Year'] == 2011].sort_values(by='totalprice',ascending = False).head(5)\n",
    "top = pd.concat([top_2009,top_2010,top_2011],axis=0).sort_values(by=['Year','totalprice'],ascending=False)\n",
    "top"
   ]
  },
  {
   "cell_type": "code",
   "execution_count": null,
   "id": "3bc2e3de",
   "metadata": {},
   "outputs": [],
   "source": [
    "#  product thats always in top 5 each year provide high gross sales\n",
    "# REGENCY CAKESTAND 3 TIER, WHITE HANGING HEART T-LIGHT HOLDER, this can be plan for discount \n",
    "#for customer that low on loyality"
   ]
  },
  {
   "cell_type": "markdown",
   "id": "64233b64",
   "metadata": {},
   "source": [
    "## RFM (Recency, Frequency, and Monetary) "
   ]
  },
  {
   "cell_type": "code",
   "execution_count": 38,
   "id": "6c6785a1",
   "metadata": {},
   "outputs": [],
   "source": [
    "########\n",
    "#the records is from [01/12/2009] until ['10/12/2011'])\n",
    "\n",
    "#RFM method \n",
    "# Recency = refers to newest purchase or customer last transaction  (grouped Customer [last_invoice date - max date])\n",
    "#Frequency = refers to how much customer do transaction, sum of customer transaction (invoice No diff count)\n",
    "#Monetary = refers to how much customer spending their money, total price (Unitprice(quantity) diff customer)\n",
    "\n",
    "#from information and check there is canceled purchase with InvoiceNo startswith C, so for frequency, and  monetary \n",
    "# can be split  (fail_frequency, success_frequency, full_monetary, fail_monetary, success_monetary)"
   ]
  },
  {
   "cell_type": "code",
   "execution_count": 36,
   "id": "c289d638",
   "metadata": {},
   "outputs": [
    {
     "data": {
      "text/plain": [
       "5924"
      ]
     },
     "execution_count": 36,
     "metadata": {},
     "output_type": "execute_result"
    }
   ],
   "source": [
    "df2['Customer ID'].nunique()\n",
    "# there is 5924 customer unique"
   ]
  },
  {
   "cell_type": "code",
   "execution_count": 12,
   "id": "750b7784",
   "metadata": {},
   "outputs": [
    {
     "data": {
      "text/plain": [
       "(5924, 2)"
      ]
     },
     "execution_count": 12,
     "metadata": {},
     "output_type": "execute_result"
    }
   ],
   "source": [
    "# recency\n",
    "max_date = df2['InvoiceDate'].max()\n",
    "df2['Diff'] = (max_date - df2['InvoiceDate']).dt.days\n",
    "recency = df2.groupby('Customer ID')['Diff'].min().reset_index()\n",
    "recency.shape\n",
    "\n",
    "#already equivalent to unique customer"
   ]
  },
  {
   "cell_type": "code",
   "execution_count": 13,
   "id": "dc237301",
   "metadata": {},
   "outputs": [
    {
     "data": {
      "text/plain": [
       "(5863, 2)"
      ]
     },
     "execution_count": 13,
     "metadata": {},
     "output_type": "execute_result"
    }
   ],
   "source": [
    "#frequency\n",
    "sf = df2[~(df2['Invoice'].str.startswith('C'))]\n",
    "success_frequency = sf.groupby(['Customer ID'])['Invoice'].nunique().reset_index()\n",
    "success_frequency.shape\n",
    "\n",
    "#there is null if concat, this the customer success frequency = 0"
   ]
  },
  {
   "cell_type": "code",
   "execution_count": 14,
   "id": "4f2762c4",
   "metadata": {},
   "outputs": [],
   "source": [
    "#expenditure for monetary\n",
    "\n",
    "df2['total_expend'] = df2['Quantity'] * df2['Price']"
   ]
  },
  {
   "cell_type": "code",
   "execution_count": 15,
   "id": "5a9bbd2b",
   "metadata": {},
   "outputs": [
    {
     "data": {
      "text/plain": [
       "(5863, 2)"
      ]
     },
     "execution_count": 15,
     "metadata": {},
     "output_type": "execute_result"
    }
   ],
   "source": [
    "# success monetary\n",
    "success_monetary = df2[~(df2['Invoice'].str.startswith('C'))].groupby(['Customer ID'])['total_expend'].sum().reset_index()\n",
    "success_monetary.shape\n",
    "\n",
    "#same for null this is customer monetary = 0"
   ]
  },
  {
   "cell_type": "code",
   "execution_count": 16,
   "id": "7fa81110",
   "metadata": {},
   "outputs": [
    {
     "data": {
      "text/plain": [
       "CustomerID     0\n",
       "recency        0\n",
       "frequency     61\n",
       "monetary      61\n",
       "dtype: int64"
      ]
     },
     "execution_count": 16,
     "metadata": {},
     "output_type": "execute_result"
    }
   ],
   "source": [
    "RFM = recency.merge(success_frequency,how='left',on = 'Customer ID')\n",
    "RFM = RFM.merge(success_monetary,how='left',on = 'Customer ID')\n",
    "RFM.columns =  ['CustomerID','recency','frequency','monetary']\n",
    "RFM.isnull().sum()\n",
    "\n",
    "# there is value that null meaning that are customers that never success buy  "
   ]
  },
  {
   "cell_type": "code",
   "execution_count": 18,
   "id": "53319405",
   "metadata": {},
   "outputs": [
    {
     "data": {
      "text/plain": [
       "0.010297096556380824"
      ]
     },
     "execution_count": 18,
     "metadata": {},
     "output_type": "execute_result"
    }
   ],
   "source": [
    "61/len(RFM['CustomerID'].unique())\n",
    "\n",
    "#only 1 % from all customer"
   ]
  },
  {
   "cell_type": "code",
   "execution_count": 19,
   "id": "95ddef75",
   "metadata": {},
   "outputs": [],
   "source": [
    "RFM['frequency'] = np.where(RFM['frequency'].isnull(), 0,RFM['frequency'])\n",
    "RFM['monetary'] = np.where(RFM['monetary'].isnull(), 0,RFM['monetary'])"
   ]
  },
  {
   "cell_type": "code",
   "execution_count": 20,
   "id": "b49e6217",
   "metadata": {},
   "outputs": [
    {
     "data": {
      "text/plain": [
       "(5924, 4)"
      ]
     },
     "execution_count": 20,
     "metadata": {},
     "output_type": "execute_result"
    }
   ],
   "source": [
    "RFM.shape"
   ]
  },
  {
   "cell_type": "markdown",
   "id": "790d77b3",
   "metadata": {},
   "source": [
    "## DATA VISUALIZATION"
   ]
  },
  {
   "cell_type": "markdown",
   "id": "80ef80ab",
   "metadata": {},
   "source": [
    "### UNIVARIATE"
   ]
  },
  {
   "cell_type": "code",
   "execution_count": 49,
   "id": "a864323a",
   "metadata": {},
   "outputs": [
    {
     "name": "stdout",
     "output_type": "stream",
     "text": [
      "<class 'pandas.core.frame.DataFrame'>\n",
      "Int64Index: 5924 entries, 0 to 5923\n",
      "Data columns (total 4 columns):\n",
      " #   Column      Non-Null Count  Dtype  \n",
      "---  ------      --------------  -----  \n",
      " 0   CustomerID  5924 non-null   object \n",
      " 1   recency     5924 non-null   int64  \n",
      " 2   frequency   5924 non-null   float64\n",
      " 3   monetary    5924 non-null   float64\n",
      "dtypes: float64(2), int64(1), object(1)\n",
      "memory usage: 231.4+ KB\n"
     ]
    }
   ],
   "source": [
    "RFM.info()"
   ]
  },
  {
   "cell_type": "code",
   "execution_count": 26,
   "id": "6160bf28",
   "metadata": {},
   "outputs": [
    {
     "data": {
      "image/png": "[encoded data removed]",
      "text/plain": [
       "<Figure size 800x400 with 3 Axes>"
      ]
     },
     "metadata": {},
     "output_type": "display_data"
    }
   ],
   "source": [
    "plt.figure(figsize=(8,4))\n",
    "index = 1\n",
    "cols = list(RFM.columns)\n",
    "cols.remove('CustomerID')\n",
    "\n",
    "for i in cols:\n",
    "    plt.subplot(1,len(cols),index)\n",
    "    sns.boxplot(y= RFM[i], color='Brown')\n",
    "    index += 1\n",
    "    plt.tight_layout()"
   ]
  },
  {
   "cell_type": "code",
   "execution_count": 27,
   "id": "4fa6ebc9",
   "metadata": {},
   "outputs": [
    {
     "data": {
      "text/plain": [
       "CustomerID    -0.000345\n",
       "recency        1.013410\n",
       "frequency     12.634417\n",
       "monetary      25.658176\n",
       "dtype: float64"
      ]
     },
     "execution_count": 27,
     "metadata": {},
     "output_type": "execute_result"
    }
   ],
   "source": [
    "RFM.skew()\n",
    "\n",
    "# frequency, monetary, tag_count are skewed and so many outliers "
   ]
  },
  {
   "cell_type": "markdown",
   "id": "bfe9cc94",
   "metadata": {},
   "source": [
    "### OUTLIER"
   ]
  },
  {
   "cell_type": "code",
   "execution_count": 28,
   "id": "8eade84d",
   "metadata": {},
   "outputs": [],
   "source": [
    "d_skew = [i for i in RFM.columns if i != 'CustomerID']#['f_frequency', 's_frequency', 'f_monetary','s_monetary', 'real_monetary'] "
   ]
  },
  {
   "cell_type": "code",
   "execution_count": 29,
   "id": "d80b7cef",
   "metadata": {},
   "outputs": [
    {
     "name": "stdout",
     "output_type": "stream",
     "text": [
      "0 recency\n",
      "column :recency\n",
      "num_outliers:33\n",
      "\n",
      "1 frequency\n",
      "column :frequency\n",
      "num_outliers:416\n",
      "\n",
      "2 monetary\n",
      "column :monetary\n",
      "num_outliers:635\n",
      "\n"
     ]
    }
   ],
   "source": [
    "#####\n",
    "def check_outliers(column = str, RFM = pd.DataFrame):\n",
    "    Q3 = RFM[column].quantile(q=0.75)\n",
    "    Q1 = RFM[column].quantile(q=0.25)\n",
    "    IQR = Q3 - Q1\n",
    "    min_IQR = Q1 - 1.5 * IQR\n",
    "    max_IQR = Q3 + 1.5 * IQR\n",
    "    results_top = []\n",
    "    results_down = []\n",
    "    for index,val in enumerate(RFM[column]):\n",
    "        if (val < min_IQR):\n",
    "            results_down.append(val)\n",
    "        elif (val > max_IQR):\n",
    "            results_top.append(val)\n",
    "    print(f\"column :{column}\\nnum_outliers:{len(results_top) + len(results_down)}\\n\")\n",
    "    return results_top,results_down\n",
    "        \n",
    "\n",
    "values = {}\n",
    "for j,i in enumerate(d_skew):\n",
    "    print(j,i)\n",
    "    value_top,value_down = check_outliers(i,RFM)\n",
    "    values[j] = [value_top,value_down]"
   ]
  },
  {
   "cell_type": "code",
   "execution_count": 30,
   "id": "ad1cdbe3",
   "metadata": {},
   "outputs": [
    {
     "name": "stdout",
     "output_type": "stream",
     "text": [
      "0.005570560432140445\n",
      "0.07022282241728561\n",
      "0.10719108710330857\n"
     ]
    }
   ],
   "source": [
    "print(33/len(RFM))\n",
    "print(416/len(RFM))\n",
    "print(635/len(RFM))"
   ]
  },
  {
   "cell_type": "code",
   "execution_count": 31,
   "id": "15c73520",
   "metadata": {},
   "outputs": [],
   "source": [
    "#f_frequency outlier\n",
    "top1 = values[1][0]\n",
    "down1 = values[1][1]"
   ]
  },
  {
   "cell_type": "code",
   "execution_count": 32,
   "id": "581c539f",
   "metadata": {},
   "outputs": [
    {
     "data": {
      "text/html": [
       "<div>\n",
       "<style scoped>\n",
       "    .dataframe tbody tr th:only-of-type {\n",
       "        vertical-align: middle;\n",
       "    }\n",
       "\n",
       "    .dataframe tbody tr th {\n",
       "        vertical-align: top;\n",
       "    }\n",
       "\n",
       "    .dataframe thead th {\n",
       "        text-align: right;\n",
       "    }\n",
       "</style>\n",
       "<table border=\"1\" class=\"dataframe\">\n",
       "  <thead>\n",
       "    <tr style=\"text-align: right;\">\n",
       "      <th></th>\n",
       "      <th>recency</th>\n",
       "      <th>frequency</th>\n",
       "      <th>monetary</th>\n",
       "    </tr>\n",
       "  </thead>\n",
       "  <tbody>\n",
       "    <tr>\n",
       "      <th>count</th>\n",
       "      <td>416.000000</td>\n",
       "      <td>416.000000</td>\n",
       "      <td>416.000000</td>\n",
       "    </tr>\n",
       "    <tr>\n",
       "      <th>mean</th>\n",
       "      <td>32.514423</td>\n",
       "      <td>35.112981</td>\n",
       "      <td>20831.613978</td>\n",
       "    </tr>\n",
       "    <tr>\n",
       "      <th>std</th>\n",
       "      <td>56.244002</td>\n",
       "      <td>35.624402</td>\n",
       "      <td>48388.807977</td>\n",
       "    </tr>\n",
       "    <tr>\n",
       "      <th>min</th>\n",
       "      <td>0.000000</td>\n",
       "      <td>17.000000</td>\n",
       "      <td>1807.440000</td>\n",
       "    </tr>\n",
       "    <tr>\n",
       "      <th>25%</th>\n",
       "      <td>5.000000</td>\n",
       "      <td>20.000000</td>\n",
       "      <td>6323.635000</td>\n",
       "    </tr>\n",
       "    <tr>\n",
       "      <th>50%</th>\n",
       "      <td>15.000000</td>\n",
       "      <td>25.000000</td>\n",
       "      <td>9496.215000</td>\n",
       "    </tr>\n",
       "    <tr>\n",
       "      <th>75%</th>\n",
       "      <td>32.000000</td>\n",
       "      <td>35.000000</td>\n",
       "      <td>16786.962500</td>\n",
       "    </tr>\n",
       "    <tr>\n",
       "      <th>max</th>\n",
       "      <td>395.000000</td>\n",
       "      <td>391.000000</td>\n",
       "      <td>569501.500000</td>\n",
       "    </tr>\n",
       "  </tbody>\n",
       "</table>\n",
       "</div>"
      ],
      "text/plain": [
       "          recency   frequency       monetary\n",
       "count  416.000000  416.000000     416.000000\n",
       "mean    32.514423   35.112981   20831.613978\n",
       "std     56.244002   35.624402   48388.807977\n",
       "min      0.000000   17.000000    1807.440000\n",
       "25%      5.000000   20.000000    6323.635000\n",
       "50%     15.000000   25.000000    9496.215000\n",
       "75%     32.000000   35.000000   16786.962500\n",
       "max    395.000000  391.000000  569501.500000"
      ]
     },
     "execution_count": 32,
     "metadata": {},
     "output_type": "execute_result"
    }
   ],
   "source": [
    "RFM[RFM['frequency'].isin(top1)].describe()"
   ]
  },
  {
   "cell_type": "code",
   "execution_count": 52,
   "id": "22c3ca71",
   "metadata": {},
   "outputs": [],
   "source": [
    "#f_monetary outlier\n",
    "top1 = values[2][0]\n",
    "down1 = values[2][1]"
   ]
  },
  {
   "cell_type": "code",
   "execution_count": 53,
   "id": "6df84d7e",
   "metadata": {
    "scrolled": true
   },
   "outputs": [
    {
     "data": {
      "text/html": [
       "<div>\n",
       "<style scoped>\n",
       "    .dataframe tbody tr th:only-of-type {\n",
       "        vertical-align: middle;\n",
       "    }\n",
       "\n",
       "    .dataframe tbody tr th {\n",
       "        vertical-align: top;\n",
       "    }\n",
       "\n",
       "    .dataframe thead th {\n",
       "        text-align: right;\n",
       "    }\n",
       "</style>\n",
       "<table border=\"1\" class=\"dataframe\">\n",
       "  <thead>\n",
       "    <tr style=\"text-align: right;\">\n",
       "      <th></th>\n",
       "      <th>recency</th>\n",
       "      <th>frequency</th>\n",
       "      <th>monetary</th>\n",
       "    </tr>\n",
       "  </thead>\n",
       "  <tbody>\n",
       "    <tr>\n",
       "      <th>count</th>\n",
       "      <td>635.000000</td>\n",
       "      <td>635.000000</td>\n",
       "      <td>635.000000</td>\n",
       "    </tr>\n",
       "    <tr>\n",
       "      <th>mean</th>\n",
       "      <td>49.549606</td>\n",
       "      <td>25.593701</td>\n",
       "      <td>17367.021383</td>\n",
       "    </tr>\n",
       "    <tr>\n",
       "      <th>std</th>\n",
       "      <td>89.106724</td>\n",
       "      <td>31.345615</td>\n",
       "      <td>39736.859564</td>\n",
       "    </tr>\n",
       "    <tr>\n",
       "      <th>min</th>\n",
       "      <td>0.000000</td>\n",
       "      <td>1.000000</td>\n",
       "      <td>5020.740000</td>\n",
       "    </tr>\n",
       "    <tr>\n",
       "      <th>25%</th>\n",
       "      <td>9.000000</td>\n",
       "      <td>12.000000</td>\n",
       "      <td>6361.405000</td>\n",
       "    </tr>\n",
       "    <tr>\n",
       "      <th>50%</th>\n",
       "      <td>19.000000</td>\n",
       "      <td>18.000000</td>\n",
       "      <td>8706.970000</td>\n",
       "    </tr>\n",
       "    <tr>\n",
       "      <th>75%</th>\n",
       "      <td>52.000000</td>\n",
       "      <td>28.000000</td>\n",
       "      <td>14064.720000</td>\n",
       "    </tr>\n",
       "    <tr>\n",
       "      <th>max</th>\n",
       "      <td>633.000000</td>\n",
       "      <td>391.000000</td>\n",
       "      <td>569501.500000</td>\n",
       "    </tr>\n",
       "  </tbody>\n",
       "</table>\n",
       "</div>"
      ],
      "text/plain": [
       "          recency   frequency       monetary\n",
       "count  635.000000  635.000000     635.000000\n",
       "mean    49.549606   25.593701   17367.021383\n",
       "std     89.106724   31.345615   39736.859564\n",
       "min      0.000000    1.000000    5020.740000\n",
       "25%      9.000000   12.000000    6361.405000\n",
       "50%     19.000000   18.000000    8706.970000\n",
       "75%     52.000000   28.000000   14064.720000\n",
       "max    633.000000  391.000000  569501.500000"
      ]
     },
     "execution_count": 53,
     "metadata": {},
     "output_type": "execute_result"
    }
   ],
   "source": [
    "RFM[RFM['monetary'].isin(top1)].describe()"
   ]
  },
  {
   "cell_type": "markdown",
   "id": "c2c788dd",
   "metadata": {},
   "source": [
    "## MODELING"
   ]
  },
  {
   "cell_type": "code",
   "execution_count": 21,
   "id": "f5c167fc",
   "metadata": {},
   "outputs": [],
   "source": [
    "#set customer id as index\n",
    "\n",
    "X = RFM.set_index('CustomerID')\n",
    "col = list(X.columns)"
   ]
  },
  {
   "cell_type": "code",
   "execution_count": 42,
   "id": "a8427153",
   "metadata": {},
   "outputs": [],
   "source": [
    "# # SCALING\n",
    "# sc = StandardScaler()\n",
    "# X_std = sc.fit_transform(X)\n",
    "# X_std = pd.DataFrame(X_std,columns=col)\n",
    "# X_std.describe()"
   ]
  },
  {
   "cell_type": "code",
   "execution_count": 22,
   "id": "77d77308",
   "metadata": {},
   "outputs": [],
   "source": [
    "range_n_clusters = list(range(3,15))"
   ]
  },
  {
   "cell_type": "code",
   "execution_count": 34,
   "id": "82690380",
   "metadata": {},
   "outputs": [
    {
     "data": {
      "image/png": "[encoded data removed]",
      "text/plain": [
       "<Figure size 640x480 with 1 Axes>"
      ]
     },
     "metadata": {},
     "output_type": "display_data"
    },
    {
     "data": {
      "image/png": "[encoded data removed]",
      "text/plain": [
       "<Figure size 1000x500 with 1 Axes>"
      ]
     },
     "metadata": {},
     "output_type": "display_data"
    }
   ],
   "source": [
    "#cluster planning with elbow and silhoutte\n",
    "\n",
    "silhouttemodel_plot(X,range_n_clusters)\n",
    "elbowmodel_plot(X,range_n_clusters)"
   ]
  },
  {
   "cell_type": "code",
   "execution_count": null,
   "id": "f9580f46",
   "metadata": {},
   "outputs": [],
   "source": [
    "# candidate 3 or 4, or 5"
   ]
  },
  {
   "cell_type": "markdown",
   "id": "ab5eb5bf",
   "metadata": {},
   "source": [
    "### MODEL TEST"
   ]
  },
  {
   "cell_type": "code",
   "execution_count": 35,
   "id": "a2c5726b",
   "metadata": {},
   "outputs": [
    {
     "data": {
      "text/html": [
       "<div>\n",
       "<style scoped>\n",
       "    .dataframe tbody tr th:only-of-type {\n",
       "        vertical-align: middle;\n",
       "    }\n",
       "\n",
       "    .dataframe tbody tr th {\n",
       "        vertical-align: top;\n",
       "    }\n",
       "\n",
       "    .dataframe thead th {\n",
       "        text-align: right;\n",
       "    }\n",
       "</style>\n",
       "<table border=\"1\" class=\"dataframe\">\n",
       "  <thead>\n",
       "    <tr style=\"text-align: right;\">\n",
       "      <th></th>\n",
       "      <th>recency</th>\n",
       "      <th>frequency</th>\n",
       "      <th>monetary</th>\n",
       "      <th>Cluster</th>\n",
       "    </tr>\n",
       "    <tr>\n",
       "      <th>CustomerID</th>\n",
       "      <th></th>\n",
       "      <th></th>\n",
       "      <th></th>\n",
       "      <th></th>\n",
       "    </tr>\n",
       "  </thead>\n",
       "  <tbody>\n",
       "    <tr>\n",
       "      <th>12346.0</th>\n",
       "      <td>326</td>\n",
       "      <td>12.0</td>\n",
       "      <td>77556.46</td>\n",
       "      <td>2</td>\n",
       "    </tr>\n",
       "    <tr>\n",
       "      <th>12347.0</th>\n",
       "      <td>40</td>\n",
       "      <td>7.0</td>\n",
       "      <td>4696.71</td>\n",
       "      <td>0</td>\n",
       "    </tr>\n",
       "    <tr>\n",
       "      <th>12348.0</th>\n",
       "      <td>76</td>\n",
       "      <td>5.0</td>\n",
       "      <td>2019.40</td>\n",
       "      <td>0</td>\n",
       "    </tr>\n",
       "  </tbody>\n",
       "</table>\n",
       "</div>"
      ],
      "text/plain": [
       "            recency  frequency  monetary  Cluster\n",
       "CustomerID                                       \n",
       "12346.0         326       12.0  77556.46        2\n",
       "12347.0          40        7.0   4696.71        0\n",
       "12348.0          76        5.0   2019.40        0"
      ]
     },
     "execution_count": 35,
     "metadata": {},
     "output_type": "execute_result"
    }
   ],
   "source": [
    "# after test we choose 4\n",
    "\n",
    "kmeans = KMeans(n_clusters=4, random_state=1)\n",
    "kmeans.fit(X)\n",
    "\n",
    "X['Cluster'] = kmeans.labels_\n",
    "X.head(3)"
   ]
  },
  {
   "cell_type": "code",
   "execution_count": 58,
   "id": "1d14ff81",
   "metadata": {},
   "outputs": [
    {
     "data": {
      "text/plain": [
       "array([4, 0, 2, 3, 1])"
      ]
     },
     "execution_count": 58,
     "metadata": {},
     "output_type": "execute_result"
    }
   ],
   "source": [
    "X['Cluster'].unique()"
   ]
  },
  {
   "cell_type": "markdown",
   "id": "73d5cd39",
   "metadata": {},
   "source": [
    "## VISUALISASI"
   ]
  },
  {
   "cell_type": "markdown",
   "id": "4c6d3847",
   "metadata": {},
   "source": [
    "#### USING RADAR CHART"
   ]
  },
  {
   "cell_type": "code",
   "execution_count": 39,
   "id": "d2c27853",
   "metadata": {},
   "outputs": [],
   "source": [
    "#plot scale\n",
    "\n",
    "X_scale = minmax_scale(X[X.columns[0:-1]])\n",
    "X_scale = pd.DataFrame(X_scale,index=X.index,columns=X.columns[0:-1])\n",
    "X_scale['Cluster'] = X['Cluster']\n",
    "\n",
    "#mean plot\n",
    "group_mean = X_scale.groupby(['Cluster']).agg({\n",
    "    'recency': ['mean'],\n",
    "    'frequency': ['mean'],\n",
    "    'monetary': ['mean']\n",
    "})\n",
    "\n",
    "#median plot\n",
    "group_median = X_scale.groupby(['Cluster']).agg({\n",
    "    'recency': ['median'],\n",
    "    'frequency': ['median'],\n",
    "    'monetary': ['median']\n",
    "})"
   ]
  },
  {
   "cell_type": "code",
   "execution_count": 42,
   "id": "3132500a",
   "metadata": {},
   "outputs": [
    {
     "data": {
      "image/png": "[encoded data removed]",
      "text/plain": [
       "<Figure size 640x480 with 1 Axes>"
      ]
     },
     "metadata": {},
     "output_type": "display_data"
    }
   ],
   "source": [
    "# mean\n",
    "features = list(X.columns[0:-1])\n",
    "colors = ['b', 'g', 'r', 'y'] \n",
    "fig, ax = plt.subplots(subplot_kw=dict(polar=True))\n",
    "\n",
    "for i in range(4):  \n",
    "    radar_chart(ax, features, group_mean.values[i], f'Cluster {i}', colors[i])\n",
    "plt.show()"
   ]
  },
  {
   "cell_type": "code",
   "execution_count": 43,
   "id": "d9d8b02b",
   "metadata": {},
   "outputs": [
    {
     "data": {
      "image/png": "[encoded data removed]",
      "text/plain": [
       "<Figure size 640x480 with 1 Axes>"
      ]
     },
     "metadata": {},
     "output_type": "display_data"
    }
   ],
   "source": [
    "# median\n",
    "fig, ax = plt.subplots(subplot_kw=dict(polar=True))\n",
    "\n",
    "for i in range(4):  \n",
    "    radar_chart(ax, features, group_median.values[i], f'Cluster {i}', colors[i])\n",
    "\n",
    "plt.show()"
   ]
  },
  {
   "cell_type": "markdown",
   "id": "fe29c710",
   "metadata": {},
   "source": [
    "## INSIGHT"
   ]
  },
  {
   "cell_type": "code",
   "execution_count": 44,
   "id": "8d64965d",
   "metadata": {},
   "outputs": [
    {
     "data": {
      "text/plain": [
       "['recency', 'frequency', 'monetary']"
      ]
     },
     "execution_count": 44,
     "metadata": {},
     "output_type": "execute_result"
    }
   ],
   "source": [
    "col"
   ]
  },
  {
   "cell_type": "code",
   "execution_count": 51,
   "id": "666c5816",
   "metadata": {},
   "outputs": [
    {
     "data": {
      "text/html": [
       "<div>\n",
       "<style scoped>\n",
       "    .dataframe tbody tr th:only-of-type {\n",
       "        vertical-align: middle;\n",
       "    }\n",
       "\n",
       "    .dataframe tbody tr th {\n",
       "        vertical-align: top;\n",
       "    }\n",
       "\n",
       "    .dataframe thead tr th {\n",
       "        text-align: left;\n",
       "    }\n",
       "\n",
       "    .dataframe thead tr:last-of-type th {\n",
       "        text-align: right;\n",
       "    }\n",
       "</style>\n",
       "<table border=\"1\" class=\"dataframe\">\n",
       "  <thead>\n",
       "    <tr>\n",
       "      <th></th>\n",
       "      <th colspan=\"3\" halign=\"left\">recency</th>\n",
       "      <th colspan=\"2\" halign=\"left\">frequency</th>\n",
       "      <th colspan=\"2\" halign=\"left\">monetary</th>\n",
       "    </tr>\n",
       "    <tr>\n",
       "      <th></th>\n",
       "      <th>mean</th>\n",
       "      <th>median</th>\n",
       "      <th>count</th>\n",
       "      <th>mean</th>\n",
       "      <th>median</th>\n",
       "      <th>mean</th>\n",
       "      <th>median</th>\n",
       "    </tr>\n",
       "    <tr>\n",
       "      <th>Cluster</th>\n",
       "      <th></th>\n",
       "      <th></th>\n",
       "      <th></th>\n",
       "      <th></th>\n",
       "      <th></th>\n",
       "      <th></th>\n",
       "      <th></th>\n",
       "    </tr>\n",
       "  </thead>\n",
       "  <tbody>\n",
       "    <tr>\n",
       "      <th>0</th>\n",
       "      <td>211.491831</td>\n",
       "      <td>116.0</td>\n",
       "      <td>5876</td>\n",
       "      <td>5.497447</td>\n",
       "      <td>3.0</td>\n",
       "      <td>2037.112703</td>\n",
       "      <td>827.345</td>\n",
       "    </tr>\n",
       "    <tr>\n",
       "      <th>1</th>\n",
       "      <td>7.000000</td>\n",
       "      <td>3.0</td>\n",
       "      <td>5</td>\n",
       "      <td>159.200000</td>\n",
       "      <td>140.0</td>\n",
       "      <td>240120.758000</td>\n",
       "      <td>244784.250</td>\n",
       "    </tr>\n",
       "    <tr>\n",
       "      <th>2</th>\n",
       "      <td>47.414634</td>\n",
       "      <td>11.0</td>\n",
       "      <td>41</td>\n",
       "      <td>74.951220</td>\n",
       "      <td>57.0</td>\n",
       "      <td>65849.924707</td>\n",
       "      <td>55287.400</td>\n",
       "    </tr>\n",
       "    <tr>\n",
       "      <th>3</th>\n",
       "      <td>7.000000</td>\n",
       "      <td>7.0</td>\n",
       "      <td>2</td>\n",
       "      <td>145.500000</td>\n",
       "      <td>145.5</td>\n",
       "      <td>543188.000000</td>\n",
       "      <td>543188.000</td>\n",
       "    </tr>\n",
       "  </tbody>\n",
       "</table>\n",
       "</div>"
      ],
      "text/plain": [
       "            recency                frequency              monetary            \n",
       "               mean median count        mean median           mean      median\n",
       "Cluster                                                                       \n",
       "0        211.491831  116.0  5876    5.497447    3.0    2037.112703     827.345\n",
       "1          7.000000    3.0     5  159.200000  140.0  240120.758000  244784.250\n",
       "2         47.414634   11.0    41   74.951220   57.0   65849.924707   55287.400\n",
       "3          7.000000    7.0     2  145.500000  145.5  543188.000000  543188.000"
      ]
     },
     "execution_count": 51,
     "metadata": {},
     "output_type": "execute_result"
    }
   ],
   "source": [
    "#  median dan rata rata tiap cluster\n",
    "X.groupby(['Cluster']).agg({\n",
    "    'recency': ['mean','median', 'count'],\n",
    "    'frequency': ['mean','median'],\n",
    "    'monetary': ['mean','median'],\n",
    "})"
   ]
  },
  {
   "cell_type": "markdown",
   "id": "b28a4afb",
   "metadata": {},
   "source": [
    "#### segmentation"
   ]
  },
  {
   "cell_type": "markdown",
   "id": "b823d89b",
   "metadata": {},
   "source": [
    "##### total sales 16.956.900,948 poundsterling\n",
    "\n",
    "#### cluster 0 :\n",
    "    customer half year average recency (more than 6 months), frequency very low (average 5), and monetary very low (average 2 thousand poundsterling, most of customer in record (5876 count)\n",
    "\n",
    "#### cluster 1:\n",
    "    customer that recency only a week ago, frequency very often (average 159 count), and high monetary (average 240.120 poundsterling), only little customers (5 count)\n",
    "\n",
    "#### cluster 2:\n",
    "    customer that recency around a month ago (average 47 days), frequency often (average 74 count), and monetary good (average    65.489 poundsterling), only few customers (41 count)\n",
    "    \n",
    "#### cluster 3:\n",
    "    customer that recency around a week ago, frequency very often (average 145 count), and very very high monetary (average      543.188 poundsterling), only 2 customers"
   ]
  },
  {
   "cell_type": "code",
   "execution_count": 139,
   "id": "7d501053",
   "metadata": {},
   "outputs": [],
   "source": [
    "# upload = X.groupby(['Cluster']).agg({\n",
    "#     'recency': ['mean','median'],\n",
    "#     'f_frequency':['mean','median'],\n",
    "#     's_frequency': ['mean','median'],\n",
    "#     'f_monetary': ['mean','median'],\n",
    "#     's_monetary': ['mean','median'],\n",
    "#     'real_monetary': ['mean','median'],\n",
    "# })"
   ]
  },
  {
   "cell_type": "code",
   "execution_count": 140,
   "id": "c9a07d07",
   "metadata": {},
   "outputs": [],
   "source": [
    "# with pd.ExcelWriter('C:/Users/hp/Downloads/tabelcung.xlsx', engine='xlsxwriter') as writer:\n",
    "#     upload.to_excel(writer, sheet_name='Sheet1')"
   ]
  }
 ],
 "metadata": {
  "kernelspec": {
   "display_name": "Python 3 (ipykernel)",
   "language": "python",
   "name": "python3"
  },
  "language_info": {
   "codemirror_mode": {
    "name": "ipython",
    "version": 3
   },
   "file_extension": ".py",
   "mimetype": "text/x-python",
   "name": "python",
   "nbconvert_exporter": "python",
   "pygments_lexer": "ipython3",
   "version": "3.9.13"
  }
 },
 "nbformat": 4,
 "nbformat_minor": 5
}
